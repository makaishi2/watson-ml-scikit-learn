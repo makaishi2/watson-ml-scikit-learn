{
 "cells": [
  {
   "cell_type": "markdown",
   "metadata": {
    "collapsed": true
   },
   "source": [
    "# モデル定義用 Notebook"
   ]
  },
  {
   "cell_type": "markdown",
   "metadata": {},
   "source": [
    "## ファイルのダウンロード"
   ]
  },
  {
   "cell_type": "code",
   "execution_count": null,
   "metadata": {},
   "outputs": [],
   "source": [
    "# COSのcredentaial情報\n",
    "# 各自の設定に差し替えて下さい\n",
    "credentials = {\n",
    "    'IBM_API_KEY_ID': 'xxxx',\n",
    "    'IAM_SERVICE_ID': 'xxxx',\n",
    "    'ENDPOINT': 'https://s3-api.us-geo.objectstorage.service.networklayer.com',\n",
    "    'IBM_AUTH_ENDPOINT': 'https://iam.ng.bluemix.net/oidc/token',\n",
    "    'BUCKET': 'xxxx',\n",
    "    'FILE': 'xxxx.xxx'\n",
    "}"
   ]
  },
  {
   "cell_type": "code",
   "execution_count": 2,
   "metadata": {},
   "outputs": [],
   "source": [
    "from ibm_botocore.client import Config\n",
    "import ibm_boto3\n",
    "\n",
    "cos = ibm_boto3.client(service_name='s3',\n",
    "    ibm_api_key_id=credentials['IBM_API_KEY_ID'],\n",
    "    ibm_service_instance_id=credentials['IAM_SERVICE_ID'],\n",
    "    ibm_auth_endpoint=credentials['IBM_AUTH_ENDPOINT'],\n",
    "    config=Config(signature_version='oauth'),\n",
    "    endpoint_url=credentials['ENDPOINT'])"
   ]
  },
  {
   "cell_type": "code",
   "execution_count": 3,
   "metadata": {},
   "outputs": [],
   "source": [
    "# download zip file from COS\n",
    "zipfile = 'model-kit-cnn2.zip'\n",
    "cos.download_file(Bucket=credentials['BUCKET'],Key=zipfile,Filename=zipfile)"
   ]
  },
  {
   "cell_type": "code",
   "execution_count": 4,
   "metadata": {},
   "outputs": [
    {
     "name": "stdout",
     "output_type": "stream",
     "text": [
      "total 16\r\n",
      "-rw-r----- 1 dsxuser dsxuser 10700 May 22 07:11 gosales-101-500.csv\r\n",
      "-rw-r----- 1 dsxuser dsxuser  2342 May 22 09:54 model-kit-cnn2.zip\r\n"
     ]
    }
   ],
   "source": [
    "!ls -l"
   ]
  },
  {
   "cell_type": "markdown",
   "metadata": {},
   "source": [
    "## Watson ML 管理クライアント"
   ]
  },
  {
   "cell_type": "code",
   "execution_count": 6,
   "metadata": {},
   "outputs": [],
   "source": [
    "import urllib3, requests, json, base64, time, os, warnings\n",
    "warnings.filterwarnings('ignore')"
   ]
  },
  {
   "cell_type": "code",
   "execution_count": 7,
   "metadata": {},
   "outputs": [],
   "source": [
    "# Watson Machine LearningのCredntial情報\n",
    "# 各自の設定に差し替えて下さい。\n",
    "wml_credentials = {\n",
    "  \"url\": \"https://ibm-watson-ml.mybluemix.net\",\n",
    "  \"username\": \"xxxxx\",\n",
    "  \"password\": \"xxxxx\",\n",
    "  \"instance_id\": \"xxxxx\"\n",
    "}"
   ]
  },
  {
   "cell_type": "code",
   "execution_count": 9,
   "metadata": {},
   "outputs": [
    {
     "name": "stdout",
     "output_type": "stream",
     "text": [
      "1.0.135\n"
     ]
    }
   ],
   "source": [
    "from watson_machine_learning_client import WatsonMachineLearningAPIClient\n",
    "client = WatsonMachineLearningAPIClient(wml_credentials)\n",
    "print(client.version)"
   ]
  },
  {
   "cell_type": "markdown",
   "metadata": {},
   "source": [
    "## Training定義"
   ]
  },
  {
   "cell_type": "code",
   "execution_count": 15,
   "metadata": {},
   "outputs": [],
   "source": [
    "model_definition_metadata = {\n",
    "            client.repository.DefinitionMetaNames.NAME: \"CNN CIFAR-10 KIT v3\",\n",
    "            client.repository.DefinitionMetaNames.FRAMEWORK_NAME: \"tensorflow\",\n",
    "            client.repository.DefinitionMetaNames.FRAMEWORK_VERSION: \"1.5\",\n",
    "            client.repository.DefinitionMetaNames.RUNTIME_NAME: \"python\",\n",
    "            client.repository.DefinitionMetaNames.RUNTIME_VERSION: \"3.5\",\n",
    "            client.repository.DefinitionMetaNames.EXECUTION_COMMAND: 'python3 dlaas_train.py train_model_kit2.py CNN-CIFAR10-HPO.h5'   \n",
    "            }"
   ]
  },
  {
   "cell_type": "code",
   "execution_count": 16,
   "metadata": {},
   "outputs": [],
   "source": [
    "# 定義ファイルの登録\n",
    "definition_details = client.repository.store_definition(zipfile, model_definition_metadata)"
   ]
  },
  {
   "cell_type": "code",
   "execution_count": 17,
   "metadata": {},
   "outputs": [
    {
     "name": "stdout",
     "output_type": "stream",
     "text": [
      "{\n",
      "  \"entity\": {\n",
      "    \"name\": \"CNN CIFAR-10 KIT v3\",\n",
      "    \"training_definition_version\": {\n",
      "      \"content_url\": \"https://ibm-watson-ml.mybluemix.net/v3/ml_assets/training_definitions/255e537c-3c0f-4766-95b4-a0f3f0569c13/versions/8233159a-015e-4acd-8b03-d027b1ffa83c/content\",\n",
      "      \"url\": \"https://ibm-watson-ml.mybluemix.net/v3/ml_assets/training_definitions/255e537c-3c0f-4766-95b4-a0f3f0569c13/versions/8233159a-015e-4acd-8b03-d027b1ffa83c\",\n",
      "      \"guid\": \"8233159a-015e-4acd-8b03-d027b1ffa83c\"\n",
      "    },\n",
      "    \"command\": \"python3 dlaas_train.py train_model_kit2.py CNN-CIFAR10-HPO.h5\",\n",
      "    \"framework\": {\n",
      "      \"name\": \"tensorflow\",\n",
      "      \"version\": \"1.5\",\n",
      "      \"runtimes\": [\n",
      "        {\n",
      "          \"name\": \"python\",\n",
      "          \"version\": \"3.5\"\n",
      "        }\n",
      "      ]\n",
      "    }\n",
      "  },\n",
      "  \"metadata\": {\n",
      "    \"url\": \"https://ibm-watson-ml.mybluemix.net/v3/ml_assets/training_definitions/255e537c-3c0f-4766-95b4-a0f3f0569c13\",\n",
      "    \"guid\": \"255e537c-3c0f-4766-95b4-a0f3f0569c13\",\n",
      "    \"created_at\": \"2018-05-22T10:03:26.020Z\"\n",
      "  }\n",
      "}\n"
     ]
    }
   ],
   "source": [
    "import json\n",
    "print(json.dumps(definition_details, indent=2))"
   ]
  },
  {
   "cell_type": "code",
   "execution_count": 26,
   "metadata": {},
   "outputs": [
    {
     "name": "stdout",
     "output_type": "stream",
     "text": [
      "------------------------------------  -------------------  ------------------------  ----------\n",
      "GUID                                  NAME                 CREATED                   FRAMEWORK\n",
      "5ea80ee6-272b-444d-a3fe-8ca12aab3d87  TENT multiclass      2018-04-30T01:32:32.595Z  wml\n",
      "54441537-0320-4f2a-9df8-1222964b5cd8  Iris                 2018-04-30T02:24:36.416Z  wml\n",
      "441bd817-e614-4b73-9382-3351870ac14f  Regression-Sample    2018-05-03T16:03:59.937Z  wml\n",
      "c635c7a5-0d28-453d-a29c-7a19d2eef275  CNN CIFAR10 aka v5   2018-05-11T01:04:12.188Z  tensorflow\n",
      "7a2a1762-5938-4f82-b9a1-1c2ebf0cc052  CNN CIFAR10 HPO      2018-05-11T06:43:15.936Z  tensorflow\n",
      "088683ac-dc29-42f6-a140-d23f301583c2  CNN-CIFAR-10-KIT-2   2018-05-22T05:15:04.347Z  tensorflow\n",
      "255e537c-3c0f-4766-95b4-a0f3f0569c13  CNN CIFAR-10 KIT v3  2018-05-22T10:03:26.020Z  tensorflow\n",
      "------------------------------------  -------------------  ------------------------  ----------\n"
     ]
    }
   ],
   "source": [
    "# 定義ファイルの一覧\n",
    "client.repository.list_definitions()"
   ]
  },
  {
   "cell_type": "code",
   "execution_count": 25,
   "metadata": {},
   "outputs": [],
   "source": [
    "client.repository.delete('0b120a1b-b3c2-4aa3-b6c6-1985f96a2e5f')"
   ]
  },
  {
   "cell_type": "code",
   "execution_count": null,
   "metadata": {},
   "outputs": [],
   "source": []
  }
 ],
 "metadata": {
  "kernelspec": {
   "display_name": "Python 3.5",
   "language": "python",
   "name": "python3"
  },
  "language_info": {
   "codemirror_mode": {
    "name": "ipython",
    "version": 3
   },
   "file_extension": ".py",
   "mimetype": "text/x-python",
   "name": "python",
   "nbconvert_exporter": "python",
   "pygments_lexer": "ipython3",
   "version": "3.5.4"
  }
 },
 "nbformat": 4,
 "nbformat_minor": 1
}

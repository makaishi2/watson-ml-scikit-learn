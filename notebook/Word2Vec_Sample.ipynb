{
 "cells": [
  {
   "cell_type": "markdown",
   "metadata": {
    "collapsed": true
   },
   "source": [
    "# 日本語Word2Vecサンプル"
   ]
  },
  {
   "cell_type": "markdown",
   "metadata": {},
   "source": [
    "## Step1 青空文庫より「三四郎」をダウンロードし整形するまで"
   ]
  },
  {
   "cell_type": "code",
   "execution_count": 1,
   "metadata": {},
   "outputs": [
    {
     "name": "stdout",
     "output_type": "stream",
     "text": [
      "--2018-02-12 03:51:24--  http://www.aozora.gr.jp/cards/000148/files/794_ruby_4237.zip\n",
      "Resolving www.aozora.gr.jp (www.aozora.gr.jp)... 59.106.13.115\n",
      "Connecting to www.aozora.gr.jp (www.aozora.gr.jp)|59.106.13.115|:80... connected.\n",
      "HTTP request sent, awaiting response... 200 OK\n",
      "Length: 158711 (155K) [application/zip]\n",
      "Saving to: ‘794_ruby_4237.zip’\n",
      "\n",
      "100%[======================================>] 158,711      234KB/s   in 0.7s   \n",
      "\n",
      "2018-02-12 03:51:25 (234 KB/s) - ‘794_ruby_4237.zip’ saved [158711/158711]\n",
      "\n",
      "Archive:  794_ruby_4237.zip\n",
      "  inflating: sanshiro.txt            \n",
      "-rw------- 1 s496-58045080f3eb61-3a788f3af7c0 users 363871 Jun 19  2014 sanshiro.txt\n"
     ]
    }
   ],
   "source": [
    "# ファイルダウンロード、解凍\n",
    "!wget http://www.aozora.gr.jp/cards/000148/files/794_ruby_4237.zip\n",
    "!unzip 794_ruby_4237.zip\n",
    "!ls -l sanshiro.txt"
   ]
  },
  {
   "cell_type": "code",
   "execution_count": 2,
   "metadata": {},
   "outputs": [
    {
     "name": "stdout",
     "output_type": "stream",
     "text": [
      "\n",
      "\n",
      "一\n",
      "\n",
      "　うとうととして目がさめると女はいつのまにか、隣のじいさんと話を始めている。このじいさんはたしかに前の前の駅から乗ったいなか者である。発車まぎわに頓狂な声を出して駆け込んで来て、いきなり肌を\n",
      "\n",
      "\n",
      "取りかかる。与次郎だけが三四郎のそばへ来た。\n",
      "「どうだ森の女は」\n",
      "「森の女という題が悪い」\n",
      "「じゃ、なんとすればよいんだ」\n",
      "　三四郎はなんとも答えなかった。ただ口の中で迷羊、迷羊と繰り返した。\n",
      "\n",
      "\n",
      "\n",
      "\n"
     ]
    }
   ],
   "source": [
    "# ファイル読込み、内部表現化\n",
    "f = open('sanshiro.txt')\n",
    "text_sjis = f.read()\n",
    "f.close()\n",
    "text = text_sjis.decode('sjis')\n",
    "\n",
    "# ファイル整形\n",
    "import re\n",
    "# ヘッダ部分の除去\n",
    "text = re.split(u'\\-{5,}',text)[2]\n",
    "# フッタ部分の除去\n",
    "text = re.split(u'底本：',text)[0]\n",
    "# | の除去\n",
    "text = text.replace(u'|', u'')\n",
    "# ルビの削除\n",
    "text = re.sub(u'《.+?》', u'', text)\n",
    "# 入力注の削除\n",
    "text = re.sub(u'［＃.+?］', u'',text)\n",
    "# 空行の削除\n",
    "text = re.sub(u'\\n\\n', '\\n', text) \n",
    "text = re.sub(u'\\r', '', text)\n",
    "\n",
    "# 整形結果確認\n",
    "\n",
    "# 頭の100文字の表示 \n",
    "print text[:100]\n",
    "# 見やすくするため、空行 \n",
    "print\n",
    "print\n",
    "# 後ろの100文字の表示 \n",
    "print text[-100:]"
   ]
  },
  {
   "cell_type": "markdown",
   "metadata": {},
   "source": [
    "## Step2 Janomeを使い三四郎テキストから単語リストを生成"
   ]
  },
  {
   "cell_type": "code",
   "execution_count": 3,
   "metadata": {},
   "outputs": [
    {
     "name": "stdout",
     "output_type": "stream",
     "text": [
      "Requirement already satisfied: janome in /gpfs/global_fs01/sym_shared/YPProdSpark/user/s496-58045080f3eb61-3a788f3af7c0/.local/lib/python2.7/site-packages\n",
      "三四郎\n",
      "京都\n",
      "ちょっと\n",
      "用\n",
      "ある\n",
      "降りる\n",
      "ついで\n",
      "一\n",
      "する\n",
      "目\n",
      "さめる\n",
      "女\n",
      "隣\n",
      "じいさん\n",
      "話\n",
      "始める\n",
      "いる\n"
     ]
    }
   ],
   "source": [
    "# Janomeのインストール\n",
    "!pip install janome\n",
    "\n",
    "# Janomeのロード\n",
    "from janome.tokenizer import Tokenizer\n",
    "\n",
    "# Tokenneizerインスタンスの生成 \n",
    "t = Tokenizer()\n",
    "\n",
    "# テキストを引数として、形態素解析の結果、名詞・動詞原型のみを配列で抽出する関数を定義 \n",
    "def extract_words(text):\n",
    "    tokens = t.tokenize(text)\n",
    "    return [token.base_form for token in tokens \n",
    "        if token.part_of_speech.split(',')[0] in[u'名詞', u'動詞']]\n",
    "\n",
    "#  関数テスト\n",
    "ret = extract_words(u'三四郎は京都でちょっと用があって降りたついでに。')\n",
    "for word in ret:\n",
    "    print word\n",
    "\n",
    "# 全体のテキストを句点(u'。')で区切った配列にする。 \n",
    "sentences = text.split(u'。')\n",
    "# それぞれの文章を単語リストに変換(処理に数分かかります)\n",
    "word_list = [extract_words(sentence) for sentence in sentences]\n",
    "\n",
    "# 結果の一部を確認 \n",
    "for word in word_list[0]:\n",
    "    print word"
   ]
  },
  {
   "cell_type": "markdown",
   "metadata": {},
   "source": [
    "## Step 3 準備したデータを用いてWord2Vecのモデル作成、学習実施"
   ]
  },
  {
   "cell_type": "code",
   "execution_count": 4,
   "metadata": {},
   "outputs": [
    {
     "name": "stdout",
     "output_type": "stream",
     "text": [
      "Requirement already satisfied: gensim in /gpfs/global_fs01/sym_shared/YPProdSpark/user/s496-58045080f3eb61-3a788f3af7c0/.local/lib/python2.7/site-packages\n",
      "Requirement already satisfied: smart-open>=1.2.1 in /gpfs/global_fs01/sym_shared/YPProdSpark/user/s496-58045080f3eb61-3a788f3af7c0/.local/lib/python2.7/site-packages (from gensim)\n",
      "Requirement already satisfied: six>=1.5.0 in /gpfs/global_fs01/sym_shared/YPProdSpark/user/s496-58045080f3eb61-3a788f3af7c0/.local/lib/python2.7/site-packages (from gensim)\n",
      "Requirement already satisfied: scipy>=0.18.1 in /gpfs/global_fs01/sym_shared/YPProdSpark/user/s496-58045080f3eb61-3a788f3af7c0/.local/lib/python2.7/site-packages (from gensim)\n",
      "Requirement already satisfied: numpy>=1.11.3 in /gpfs/global_fs01/sym_shared/YPProdSpark/user/s496-58045080f3eb61-3a788f3af7c0/.local/lib/python2.7/site-packages (from gensim)\n",
      "Requirement already satisfied: boto>=2.32 in /gpfs/global_fs01/sym_shared/YPProdSpark/user/s496-58045080f3eb61-3a788f3af7c0/.local/lib/python2.7/site-packages (from smart-open>=1.2.1->gensim)\n",
      "Requirement already satisfied: requests in /usr/local/src/bluemix_jupyter_bundle.v79/notebook/lib/python2.7/site-packages (from smart-open>=1.2.1->gensim)\n",
      "Requirement already satisfied: bz2file in /gpfs/global_fs01/sym_shared/YPProdSpark/user/s496-58045080f3eb61-3a788f3af7c0/.local/lib/python2.7/site-packages (from smart-open>=1.2.1->gensim)\n",
      "Requirement already satisfied: urllib3<1.23,>=1.21.1 in /usr/local/src/bluemix_jupyter_bundle.v79/notebook/lib/python2.7/site-packages (from requests->smart-open>=1.2.1->gensim)\n",
      "Requirement already satisfied: idna<2.7,>=2.5 in /usr/local/src/bluemix_jupyter_bundle.v79/notebook/lib/python2.7/site-packages (from requests->smart-open>=1.2.1->gensim)\n",
      "Requirement already satisfied: chardet<3.1.0,>=3.0.2 in /usr/local/src/bluemix_jupyter_bundle.v79/notebook/lib/python2.7/site-packages (from requests->smart-open>=1.2.1->gensim)\n",
      "Requirement already satisfied: certifi>=2017.4.17 in /usr/local/src/bluemix_jupyter_bundle.v79/notebook/lib/python2.7/site-packages (from requests->smart-open>=1.2.1->gensim)\n"
     ]
    }
   ],
   "source": [
    "# Word2Vecライブラリの導入\n",
    "!pip install gensim  \n",
    "\n",
    "# Word2Vecライブラリのロード\n",
    "from gensim.models import word2vec\n",
    "\n",
    "# size: 圧縮次元数\n",
    "# min_count: 出現頻度の低いものをカットする\n",
    "# window: 前後の単語を拾う際の窓の広さを決める\n",
    "# iter: 機械学習の繰り返し回数(デフォルト:5)十分学習できていないときにこの値を調整する\n",
    "# model.wv.most_similarの結果が1に近いものばかりで、model.dict['wv']のベクトル値が小さい値ばかりの \n",
    "# ときは、学習回数が少ないと考えられます。\n",
    "# その場合、iterの値を大きくして、再度学習を行います。\n",
    "\n",
    "# 事前準備したword_listを使ってWord2Vecの学習実施\n",
    "model = word2vec.Word2Vec(word_list, size=100,min_count=5,window=5,iter=100)"
   ]
  },
  {
   "cell_type": "code",
   "execution_count": 5,
   "metadata": {},
   "outputs": [
    {
     "name": "stdout",
     "output_type": "stream",
     "text": [
      "[-7.17373252e-01 -1.97198868e-01 -4.05806184e-01  4.78572160e-01\n",
      "  7.83140659e-02 -2.68161565e-01  2.85706073e-01  2.78858453e-01\n",
      " -5.19911349e-01 -5.75572960e-02  6.86857104e-01  4.98317957e-01\n",
      "  6.05263412e-01  3.16094846e-01 -4.48681228e-02 -1.04482144e-01\n",
      " -5.04335165e-01 -1.66607097e-01 -5.66436172e-01 -6.22701883e-01\n",
      "  1.04123749e-01 -3.26531082e-01  2.04495281e-01  1.17827944e-01\n",
      " -6.03273451e-01  3.92535657e-01  2.52224594e-01 -3.01406384e-01\n",
      " -9.17062256e-03  5.40924788e-01  3.29021901e-01  1.30421907e-01\n",
      "  4.34206538e-02  1.05009042e-01  4.90578115e-01  4.25693929e-01\n",
      "  4.07388598e-01  5.71348257e-02  3.06507081e-01  7.30050385e-01\n",
      " -2.92029023e-01 -1.04512274e-03 -5.77341318e-01  3.96862209e-01\n",
      " -3.45898002e-01  7.82120705e-01 -3.57666552e-01  7.03914881e-01\n",
      "  4.62674677e-01  1.78554222e-01  4.13742900e-01  3.66649419e-01\n",
      "  1.39880091e-01 -5.98248422e-01  7.58831203e-02 -1.64480746e-01\n",
      "  3.46842974e-01  7.38604963e-01 -2.64371723e-01  1.68999478e-01\n",
      "  5.82948744e-01  4.90597010e-01  7.43355274e-01 -1.11537389e-01\n",
      " -1.95638582e-01  1.42387792e-01 -1.05260804e-01  8.57773498e-02\n",
      " -2.09484145e-01 -1.21409833e+00  1.87187016e-01  7.49584019e-01\n",
      "  2.34466180e-01 -5.83583236e-01  5.28034925e-01  1.46141559e-01\n",
      " -1.53508320e-01  8.87961015e-02 -3.74491423e-01 -2.80758619e-01\n",
      "  2.34494321e-02 -1.28021395e+00  2.85742432e-01 -1.08149782e-01\n",
      "  1.24711864e-01  1.58507541e-01 -5.52970529e-01  6.56419396e-01\n",
      " -8.27185512e-02 -1.12495340e-01  1.27066419e-01 -6.43929988e-02\n",
      " -2.93177068e-01 -3.62434685e-01 -2.12301388e-01 -6.96473897e-01\n",
      " -1.02164812e-01 -3.87295216e-01  5.83240211e-01  6.62936985e-01]\n"
     ]
    }
   ],
   "source": [
    "# 結果の確認1\n",
    "# 一つ一つの単語は100次元のベクトルになっています。 \n",
    "# 「世間」のベクトル値を確認します。\n",
    "print model.__dict__['wv'][u'世間']"
   ]
  },
  {
   "cell_type": "code",
   "execution_count": 6,
   "metadata": {},
   "outputs": [
    {
     "name": "stdout",
     "output_type": "stream",
     "text": [
      "聞こえる 0.558363080025\n",
      "外国 0.550490140915\n",
      "喝采 0.544633328915\n",
      "自己 0.491480588913\n",
      "堪える 0.475788533688\n",
      "くせ 0.459737330675\n",
      "有す 0.450292408466\n",
      "今日 0.446328788996\n",
      "える 0.44494330883\n",
      "全体 0.440056592226\n"
     ]
    }
   ],
   "source": [
    "# 結果の確認2\n",
    "# 関数most_similarを使って「世間」の類似単語を調べます \n",
    "ret = model.wv.most_similar(positive=[u'世間']) \n",
    "for item in ret:\n",
    "    print item[0], item[1]"
   ]
  },
  {
   "cell_type": "code",
   "execution_count": null,
   "metadata": {},
   "outputs": [],
   "source": []
  }
 ],
 "metadata": {
  "kernelspec": {
   "display_name": "Python 2 with Spark 2.1",
   "language": "python",
   "name": "python2-spark21"
  },
  "language_info": {
   "codemirror_mode": {
    "name": "ipython",
    "version": 2
   },
   "file_extension": ".py",
   "mimetype": "text/x-python",
   "name": "python",
   "nbconvert_exporter": "python",
   "pygments_lexer": "ipython2",
   "version": "2.7.11"
  }
 },
 "nbformat": 4,
 "nbformat_minor": 1
}

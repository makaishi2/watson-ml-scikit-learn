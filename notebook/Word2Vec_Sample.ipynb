{
 "cells": [
  {
   "cell_type": "markdown",
   "metadata": {
    "collapsed": true
   },
   "source": [
    "# 日本語Word2Vecサンプル"
   ]
  },
  {
   "cell_type": "markdown",
   "metadata": {},
   "source": [
    "## Step1 青空文庫より「三四郎」をダウンロードし整形するまで"
   ]
  },
  {
   "cell_type": "code",
   "execution_count": 1,
   "metadata": {},
   "outputs": [
    {
     "name": "stdout",
     "output_type": "stream",
     "text": [
      "--2018-07-13 10:37:05--  http://www.aozora.gr.jp/cards/000148/files/794_ruby_4237.zip\n",
      "Resolving www.aozora.gr.jp (www.aozora.gr.jp)... 59.106.13.115\n",
      "Connecting to www.aozora.gr.jp (www.aozora.gr.jp)|59.106.13.115|:80... connected.\n",
      "HTTP request sent, awaiting response... 301 Moved Permanently\n",
      "Location: https://www.aozora.gr.jp/cards/000148/files/794_ruby_4237.zip [following]\n",
      "--2018-07-13 10:37:07--  https://www.aozora.gr.jp/cards/000148/files/794_ruby_4237.zip\n",
      "Connecting to www.aozora.gr.jp (www.aozora.gr.jp)|59.106.13.115|:443... connected.\n",
      "HTTP request sent, awaiting response... 200 OK\n",
      "Length: 158711 (155K) [application/zip]\n",
      "Saving to: ‘794_ruby_4237.zip’\n",
      "\n",
      "100%[======================================>] 158,711      240KB/s   in 0.6s   \n",
      "\n",
      "2018-07-13 10:37:09 (240 KB/s) - ‘794_ruby_4237.zip’ saved [158711/158711]\n",
      "\n",
      "Archive:  794_ruby_4237.zip\n",
      "  inflating: sanshiro.txt            \n",
      "-rw-r----- 1 dsxuser dsxuser 363871 Jun 19  2014 sanshiro.txt\n"
     ]
    }
   ],
   "source": [
    "# ファイルダウンロード、解凍\n",
    "!wget http://www.aozora.gr.jp/cards/000148/files/794_ruby_4237.zip\n",
    "!unzip 794_ruby_4237.zip\n",
    "!ls -l sanshiro.txt"
   ]
  },
  {
   "cell_type": "code",
   "execution_count": 3,
   "metadata": {},
   "outputs": [
    {
     "name": "stdout",
     "output_type": "stream",
     "text": [
      "\n",
      "\n",
      "一\n",
      "\n",
      "　うとうととして目がさめると女はいつのまにか、隣のじいさんと話を始めている。このじいさんはたしかに前の前の駅から乗ったいなか者である。発車まぎわに頓狂な声を出して駆け込んで来て、いきなり肌を\n",
      "\n",
      "\n",
      "取りかかる。与次郎だけが三四郎のそばへ来た。\n",
      "「どうだ森の女は」\n",
      "「森の女という題が悪い」\n",
      "「じゃ、なんとすればよいんだ」\n",
      "　三四郎はなんとも答えなかった。ただ口の中で迷羊、迷羊と繰り返した。\n",
      "\n",
      "\n",
      "\n",
      "\n"
     ]
    }
   ],
   "source": [
    "import codecs\n",
    "# ファイル読込み、内部表現化\n",
    "f = codecs.open('sanshiro.txt', \"r\", \"sjis\")\n",
    "text = f.read()\n",
    "f.close()\n",
    "\n",
    "# ファイル整形\n",
    "import re\n",
    "# ヘッダ部分の除去\n",
    "text = re.split('\\-{5,}',text)[2]\n",
    "# フッタ部分の除去\n",
    "text = re.split('底本：',text)[0]\n",
    "# | の除去\n",
    "text = text.replace('|', '')\n",
    "# ルビの削除\n",
    "text = re.sub('《.+?》', '', text)\n",
    "# 入力注の削除\n",
    "text = re.sub('［＃.+?］', '',text)\n",
    "# 空行の削除\n",
    "text = re.sub('\\n\\n', '\\n', text) \n",
    "text = re.sub('\\r', '', text)\n",
    "\n",
    "# 整形結果確認\n",
    "\n",
    "# 頭の100文字の表示 \n",
    "print(text[:100])\n",
    "# 見やすくするため、空行 \n",
    "print()\n",
    "print()\n",
    "# 後ろの100文字の表示 \n",
    "print(text[-100:])"
   ]
  },
  {
   "cell_type": "markdown",
   "metadata": {},
   "source": [
    "## Step2 Janomeを使い三四郎テキストから単語リストを生成"
   ]
  },
  {
   "cell_type": "code",
   "execution_count": 4,
   "metadata": {},
   "outputs": [
    {
     "name": "stdout",
     "output_type": "stream",
     "text": [
      "Collecting janome\n",
      "  Downloading https://files.pythonhosted.org/packages/b4/7b/6f4fa5243a235cd682693b448f05afacedb2b10fc2efea3369d6336ab83b/Janome-0.3.6.tar.gz (20.0MB)\n",
      "\u001b[K    100% |████████████████████████████████| 20.0MB 47kB/s  eta 0:00:01\n",
      "\u001b[?25hBuilding wheels for collected packages: janome\n",
      "  Running setup.py bdist_wheel for janome ... \u001b[?25ldone\n",
      "\u001b[?25h  Stored in directory: /home/dsxuser/.cache/pip/wheels/53/60/be/fe884e2d0ebc9fec0988736cf08a2820ab34e3569fc0c5a25a\n",
      "Successfully built janome\n",
      "Installing collected packages: janome\n",
      "Successfully installed janome-0.3.6\n",
      "三四郎\n",
      "京都\n",
      "ちょっと\n",
      "用\n",
      "ある\n",
      "降りる\n",
      "ついで\n",
      "一\n",
      "する\n",
      "目\n",
      "さめる\n",
      "女\n",
      "隣\n",
      "じいさん\n",
      "話\n",
      "始める\n",
      "いる\n"
     ]
    }
   ],
   "source": [
    "# Janomeのインストール\n",
    "!pip install janome\n",
    "\n",
    "# Janomeのロード\n",
    "from janome.tokenizer import Tokenizer\n",
    "\n",
    "# Tokenneizerインスタンスの生成 \n",
    "t = Tokenizer()\n",
    "\n",
    "# テキストを引数として、形態素解析の結果、名詞・動詞原型のみを配列で抽出する関数を定義 \n",
    "def extract_words(text):\n",
    "    tokens = t.tokenize(text)\n",
    "    return [token.base_form for token in tokens \n",
    "        if token.part_of_speech.split(',')[0] in['名詞', '動詞']]\n",
    "\n",
    "#  関数テスト\n",
    "ret = extract_words('三四郎は京都でちょっと用があって降りたついでに。')\n",
    "for word in ret:\n",
    "    print(word)\n",
    "\n",
    "# 全体のテキストを句点('。')で区切った配列にする。 \n",
    "sentences = text.split('。')\n",
    "# それぞれの文章を単語リストに変換(処理に数分かかります)\n",
    "word_list = [extract_words(sentence) for sentence in sentences]\n",
    "\n",
    "# 結果の一部を確認 \n",
    "for word in word_list[0]:\n",
    "    print(word)"
   ]
  },
  {
   "cell_type": "markdown",
   "metadata": {},
   "source": [
    "## Step 3 準備したデータを用いてWord2Vecのモデル作成、学習実施"
   ]
  },
  {
   "cell_type": "code",
   "execution_count": 5,
   "metadata": {},
   "outputs": [
    {
     "name": "stdout",
     "output_type": "stream",
     "text": [
      "Collecting gensim\n",
      "  Downloading https://files.pythonhosted.org/packages/8c/d7/b6e1f23eb5ded71c0e724e0f60a08f96853c6503a51b7cc23c3761aa9ec4/gensim-3.5.0-cp35-cp35m-manylinux1_x86_64.whl (23.5MB)\n",
      "\u001b[K    100% |████████████████████████████████| 23.5MB 42kB/s  eta 0:00:01\n",
      "\u001b[?25hRequirement not upgraded as not directly required: numpy>=1.11.3 in /opt/conda/envs/DSX-Python35/lib/python3.5/site-packages (from gensim)\n",
      "Requirement not upgraded as not directly required: six>=1.5.0 in /opt/conda/envs/DSX-Python35/lib/python3.5/site-packages (from gensim)\n",
      "Requirement not upgraded as not directly required: scipy>=0.18.1 in /opt/conda/envs/DSX-Python35/lib/python3.5/site-packages (from gensim)\n",
      "Collecting smart-open>=1.2.1 (from gensim)\n",
      "  Downloading https://files.pythonhosted.org/packages/cf/3d/5f3a9a296d0ba8e00e263a8dee76762076b9eb5ddc254ccaa834651c8d65/smart_open-1.6.0.tar.gz\n",
      "Requirement not upgraded as not directly required: boto>=2.32 in /opt/conda/envs/DSX-Python35/lib/python3.5/site-packages (from smart-open>=1.2.1->gensim)\n",
      "Collecting bz2file (from smart-open>=1.2.1->gensim)\n",
      "  Downloading https://files.pythonhosted.org/packages/61/39/122222b5e85cd41c391b68a99ee296584b2a2d1d233e7ee32b4532384f2d/bz2file-0.98.tar.gz\n",
      "Requirement not upgraded as not directly required: requests in /opt/conda/envs/DSX-Python35/lib/python3.5/site-packages (from smart-open>=1.2.1->gensim)\n",
      "Requirement not upgraded as not directly required: boto3 in /opt/conda/envs/DSX-Python35/lib/python3.5/site-packages (from smart-open>=1.2.1->gensim)\n",
      "Requirement not upgraded as not directly required: chardet<3.1.0,>=3.0.2 in /opt/conda/envs/DSX-Python35/lib/python3.5/site-packages (from requests->smart-open>=1.2.1->gensim)\n",
      "Requirement not upgraded as not directly required: idna<2.7,>=2.5 in /opt/conda/envs/DSX-Python35/lib/python3.5/site-packages (from requests->smart-open>=1.2.1->gensim)\n",
      "Requirement not upgraded as not directly required: urllib3<1.23,>=1.21.1 in /opt/conda/envs/DSX-Python35/lib/python3.5/site-packages (from requests->smart-open>=1.2.1->gensim)\n",
      "Requirement not upgraded as not directly required: certifi>=2017.4.17 in /opt/conda/envs/DSX-Python35/lib/python3.5/site-packages (from requests->smart-open>=1.2.1->gensim)\n",
      "Requirement not upgraded as not directly required: botocore<1.8.0,>=1.7.0 in /opt/conda/envs/DSX-Python35/lib/python3.5/site-packages (from boto3->smart-open>=1.2.1->gensim)\n",
      "Requirement not upgraded as not directly required: jmespath<1.0.0,>=0.7.1 in /opt/conda/envs/DSX-Python35/lib/python3.5/site-packages (from boto3->smart-open>=1.2.1->gensim)\n",
      "Requirement not upgraded as not directly required: s3transfer<0.2.0,>=0.1.10 in /opt/conda/envs/DSX-Python35/lib/python3.5/site-packages (from boto3->smart-open>=1.2.1->gensim)\n",
      "Requirement not upgraded as not directly required: python-dateutil<3.0.0,>=2.1 in /opt/conda/envs/DSX-Python35/lib/python3.5/site-packages (from botocore<1.8.0,>=1.7.0->boto3->smart-open>=1.2.1->gensim)\n",
      "Requirement not upgraded as not directly required: docutils>=0.10 in /opt/conda/envs/DSX-Python35/lib/python3.5/site-packages (from botocore<1.8.0,>=1.7.0->boto3->smart-open>=1.2.1->gensim)\n",
      "Building wheels for collected packages: smart-open, bz2file\n",
      "  Running setup.py bdist_wheel for smart-open ... \u001b[?25ldone\n",
      "\u001b[?25h  Stored in directory: /home/dsxuser/.cache/pip/wheels/73/f1/9b/ccf93d4ba073b6f79b1ed9df68ab5ce048d8136d0efcf90b30\n",
      "  Running setup.py bdist_wheel for bz2file ... \u001b[?25ldone\n",
      "\u001b[?25h  Stored in directory: /home/dsxuser/.cache/pip/wheels/81/75/d6/e1317bf09bf1af5a30befc2a007869fa6e1f516b8f7c591cb9\n",
      "Successfully built smart-open bz2file\n",
      "Installing collected packages: bz2file, smart-open, gensim\n",
      "Successfully installed bz2file-0.98 gensim-3.5.0 smart-open-1.6.0\n"
     ]
    }
   ],
   "source": [
    "# Word2Vecライブラリの導入\n",
    "!pip install gensim  \n",
    "\n",
    "# Word2Vecライブラリのロード\n",
    "from gensim.models import word2vec\n",
    "\n",
    "# size: 圧縮次元数\n",
    "# min_count: 出現頻度の低いものをカットする\n",
    "# window: 前後の単語を拾う際の窓の広さを決める\n",
    "# iter: 機械学習の繰り返し回数(デフォルト:5)十分学習できていないときにこの値を調整する\n",
    "# model.wv.most_similarの結果が1に近いものばかりで、model.dict['wv']のベクトル値が小さい値ばかりの \n",
    "# ときは、学習回数が少ないと考えられます。\n",
    "# その場合、iterの値を大きくして、再度学習を行います。\n",
    "\n",
    "# 事前準備したword_listを使ってWord2Vecの学習実施\n",
    "model = word2vec.Word2Vec(word_list, size=100,min_count=5,window=5,iter=100)"
   ]
  },
  {
   "cell_type": "code",
   "execution_count": 7,
   "metadata": {},
   "outputs": [
    {
     "name": "stdout",
     "output_type": "stream",
     "text": [
      "[-0.1185699  -0.55271137  0.28981113 -0.77834398 -0.11299677  0.18112819\n",
      "  0.56930435 -0.14783838 -0.49145272 -0.32555279  0.7454865   0.39812958\n",
      " -0.17299417 -0.78942966  0.67454261  0.12464167 -0.62386167 -0.6949895\n",
      " -0.43427449 -0.30724698  0.47436664  0.04066832 -0.52796072  0.49218211\n",
      "  0.42828065  0.19826999  0.25669956 -0.30152366 -1.05436087  0.32642192\n",
      " -0.14976506 -0.34333041 -0.17113055 -0.7798264   0.57628167  0.42036498\n",
      " -0.02534406 -0.94544441  0.0987906   0.10166086 -0.25996104 -0.48275819\n",
      "  0.04170883 -0.11712918  0.05164267  0.15540655  0.30475974  0.12529774\n",
      " -0.72473979  0.0481841   0.39582559  0.26715094  0.09145357 -0.16046812\n",
      " -0.36561432 -0.40758082  0.6085574  -0.28804165  0.38687402 -0.18952528\n",
      " -0.50897199 -0.01298458  0.61324769  0.52890402  0.34517321  0.06064553\n",
      "  0.31997317  0.57552683  0.00670109  0.38636935  0.70543224  0.27081084\n",
      " -0.22624452  0.94744062 -0.03035834  0.13171527  0.03211259 -0.08502633\n",
      " -0.06518854  0.42222449 -0.17157423  0.3754316  -0.07729802 -0.42637232\n",
      " -0.18277894  0.97880793  0.25507593  0.1667548   1.10326099  0.34252003\n",
      " -0.54241991 -0.90053338  0.35582143 -0.176045    0.34252363  0.24116711\n",
      "  0.13078961 -0.56489968  0.26665744 -0.2275787 ]\n"
     ]
    }
   ],
   "source": [
    "# 結果の確認1\n",
    "# 一つ一つの単語は100次元のベクトルになっています。 \n",
    "# 「世間」のベクトル値を確認します。\n",
    "print(model.__dict__['wv']['世間'])"
   ]
  },
  {
   "cell_type": "code",
   "execution_count": 8,
   "metadata": {},
   "outputs": [
    {
     "name": "stdout",
     "output_type": "stream",
     "text": [
      "聞こえる 0.566158652305603\n",
      "喝采 0.5400208234786987\n",
      "自己 0.5261504054069519\n",
      "社会 0.5239230394363403\n",
      "決心 0.5216581225395203\n",
      "堪える 0.5151171088218689\n",
      "外国 0.4964694082736969\n",
      "賛成 0.486000657081604\n",
      "圧迫 0.48121926188468933\n",
      "酔う 0.46692538261413574\n"
     ]
    }
   ],
   "source": [
    "# 結果の確認2\n",
    "# 関数most_similarを使って「世間」の類似単語を調べます \n",
    "ret = model.wv.most_similar(positive=['世間']) \n",
    "for item in ret:\n",
    "    print(item[0], item[1])"
   ]
  },
  {
   "cell_type": "code",
   "execution_count": null,
   "metadata": {},
   "outputs": [],
   "source": []
  }
 ],
 "metadata": {
  "kernelspec": {
   "display_name": "Python 3.5",
   "language": "python",
   "name": "python3"
  },
  "language_info": {
   "codemirror_mode": {
    "name": "ipython",
    "version": 3
   },
   "file_extension": ".py",
   "mimetype": "text/x-python",
   "name": "python",
   "nbconvert_exporter": "python",
   "pygments_lexer": "ipython3",
   "version": "3.5.4"
  }
 },
 "nbformat": 4,
 "nbformat_minor": 1
}

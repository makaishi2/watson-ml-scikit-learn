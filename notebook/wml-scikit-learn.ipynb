{
 "cells": [
  {
   "cell_type": "code",
   "execution_count": null,
   "metadata": {},
   "outputs": [],
   "source": [
    "import numpy as np\n",
    "import matplotlib.pyplot as plt\n",
    "%matplotlib inline\n",
    "from sklearn import datasets\n",
    "digits = datasets.load_digits()\n",
    "\n",
    "images_number = 5\n",
    "images_and_labels = list(zip(digits.images, digits.target))\n",
    "\n",
    "for i, (image, label) in enumerate(images_and_labels[:images_number]):\n",
    "    plt.subplot(2, images_number, i + 1)\n",
    "    plt.axis('off')\n",
    "    plt.imshow(image, cmap=plt.cm.gray_r, interpolation='nearest')\n",
    "    plt.title('%i' % label)"
   ]
  },
  {
   "cell_type": "code",
   "execution_count": null,
   "metadata": {},
   "outputs": [],
   "source": [
    "print(digits.data[0])\n",
    "print(digits.target[0])\n",
    "samples_count = len(digits.images)\n",
    "print(\"Number of samples: \" + str(samples_count))"
   ]
  },
  {
   "cell_type": "code",
   "execution_count": null,
   "metadata": {},
   "outputs": [],
   "source": [
    "train_data = digits.data[: int(0.7*samples_count)]\n",
    "train_labels = digits.target[: int(0.7*samples_count)]\n",
    "\n",
    "test_data = digits.data[int(0.7*samples_count): int(0.9*samples_count)]\n",
    "test_labels = digits.target[int(0.7*samples_count): int(0.9*samples_count)]\n",
    "\n",
    "score_data = digits.data[int(0.9*samples_count): ]\n",
    "score_labels = digits.target[int(0.9*samples_count): ]\n",
    "\n",
    "print(\"Number of training records: \" + str(len(train_data)))\n",
    "print(\"Number of testing records : \" + str(len(test_data)))\n",
    "print(\"Number of scoring records : \" + str(len(score_data)))"
   ]
  },
  {
   "cell_type": "code",
   "execution_count": null,
   "metadata": {},
   "outputs": [],
   "source": [
    "from sklearn.pipeline import Pipeline\n",
    "from sklearn import preprocessing\n",
    "from sklearn import svm, metrics\n",
    "\n",
    "scaler = preprocessing.StandardScaler()\n",
    "clf = svm.SVC(kernel='rbf')\n",
    "pipeline = Pipeline([('scaler', scaler), ('svc', clf)])\n",
    "\n",
    "model = pipeline.fit(train_data, train_labels)\n",
    "\n",
    "predicted = model.predict(test_data)\n",
    "print(\"Evaluation report: \\n\\n%s\" % metrics.classification_report(test_labels, predicted))"
   ]
  },
  {
   "cell_type": "code",
   "execution_count": null,
   "metadata": {},
   "outputs": [],
   "source": [
    "# このパラメータは自分の環境のものに置き換えて下さい\n",
    "wml_credentials={\n",
    "        \"url\": \"https://ibm-watson-ml.mybluemix.net\",\n",
    "        \"access_key\": \"xxxx\",\n",
    "        \"username\": \"xxxx\",\n",
    "        \"password\": \"xxxx\",\n",
    "        \"instance_id\": \"xxxx\"\n",
    "}"
   ]
  },
  {
   "cell_type": "code",
   "execution_count": null,
   "metadata": {},
   "outputs": [],
   "source": [
    "from repository.mlrepositoryclient import MLRepositoryClient\n",
    "from repository.mlrepositoryartifact import MLRepositoryArtifact\n",
    "from repository.mlrepository import MetaProps, MetaNames\n",
    "\n",
    "ml_repository_client = MLRepositoryClient(wml_credentials['url'])\n",
    "ml_repository_client.authorize(wml_credentials['username'], wml_credentials['password'])\n",
    "\n",
    "# このパラメータは正しいものに修正して下さい\n",
    "props = MetaProps({MetaNames.AUTHOR_NAME:\"name\", MetaNames.AUTHOR_EMAIL:\"xxx@yyy.zzz\"})\n",
    "model_artifact = MLRepositoryArtifact(model, name=\"Hand-written digits recognition\", meta_props=props)"
   ]
  },
  {
   "cell_type": "code",
   "execution_count": null,
   "metadata": {},
   "outputs": [],
   "source": [
    "saved_model = ml_repository_client.models.save(model_artifact)"
   ]
  },
  {
   "cell_type": "code",
   "execution_count": null,
   "metadata": {},
   "outputs": [],
   "source": [
    "print(saved_model.meta.available_props())\n",
    "print(\"modelType: \" + saved_model.meta.prop(\"modelType\"))\n",
    "print(\"runtime: \" + saved_model.meta.prop(\"runtime\"))\n",
    "print(\"creationTime: \" + str(saved_model.meta.prop(\"creationTime\")))\n",
    "print(\"modelVersionHref: \" + saved_model.meta.prop(\"modelVersionHref\"))"
   ]
  },
  {
   "cell_type": "code",
   "execution_count": null,
   "metadata": {},
   "outputs": [],
   "source": [
    "loadedModelArtifact = ml_repository_client.models.get(saved_model.uid)\n",
    "print(loadedModelArtifact.name)\n",
    "\n",
    "predictions = loadedModelArtifact.model_instance().predict(score_data)\n",
    "print(predictions)"
   ]
  },
  {
   "cell_type": "code",
   "execution_count": null,
   "metadata": {},
   "outputs": [],
   "source": [
    "# 必要ライブラリのロード\n",
    "import urllib3\n",
    "import requests\n",
    "import json\n",
    "# Basic認証用ヘッダの生成\n",
    "auth = '{username}:{password}'.format(\n",
    "    username=wml_credentials['username'], password=wml_credentials['password'])\n",
    "header_basic_auth = urllib3.util.make_headers(basic_auth=auth)\n",
    "url = '{}/v3/identity/token'.format(wml_credentials['url'])\n",
    "# Tokenの取得\n",
    "mltoken =  json.loads( requests.get(url, headers=header_basic_auth).text )['token']"
   ]
  },
  {
   "cell_type": "code",
   "execution_count": null,
   "metadata": {},
   "outputs": [],
   "source": [
    "# インスタンス取得用エンドポイントURL\n",
    "endpoint_instance = wml_credentials['url'] + \"/v3/wml_instances/\" + wml_credentials['instance_id']\n",
    "# Tokenを使ったヘッダの生成\n",
    "header_token = {'Content-Type': 'application/json', 'Authorization': 'Bearer ' + mltoken}\n",
    "# インスタンス情報取得\n",
    "instance = json.loads( requests.get(endpoint_instance, headers=header_token).text )\n",
    "# 登録済みモデル一覧取得用URL\n",
    "endpoint_published_models = instance['entity']['published_models']['url']"
   ]
  },
  {
   "cell_type": "code",
   "execution_count": null,
   "metadata": {},
   "outputs": [],
   "source": [
    "# 登録済みモデル一覧の取得\n",
    "published_models = json.loads( requests.get(endpoint_published_models, headers=header_token).text )\n",
    "# uidをキーにWebサービス化を行いたいモデルを選択し、そのモデルのdeploy用URLを取得する\n",
    "[endpoint_deployments] = [ \n",
    "    x['entity']['deployments']['url'] for x in published_models['resources'] \n",
    "    if x['metadata']['guid'] == saved_model.uid ]"
   ]
  },
  {
   "cell_type": "code",
   "execution_count": null,
   "metadata": {},
   "outputs": [],
   "source": [
    "# Webサービス登録用パラメータ設定\n",
    "payload_online = {\n",
    "    \"name\": \"Hand written digits recognition\", \n",
    "    \"description\": \"Hand Written Digits Deployment\", \n",
    "    \"type\": \"online\"}\n",
    "# Webサービス登録\n",
    "online = json.loads( requests.post(endpoint_deployments, json=payload_online, headers=header_token).text )\n",
    "# 登録したWebサービスのURL\n",
    "scoring_url = online['entity']['scoring_url']"
   ]
  },
  {
   "cell_type": "code",
   "execution_count": null,
   "metadata": {},
   "outputs": [],
   "source": [
    "# Webサービス呼出し用パラメータの設定\n",
    "payload_scoring = {\"values\": [list(data) for data in score_data]}\n",
    "# Webサービスの呼出し\n",
    "scoring = json.loads( requests.post(scoring_url, json=payload_scoring, headers=header_token).text )"
   ]
  },
  {
   "cell_type": "code",
   "execution_count": null,
   "metadata": {},
   "outputs": [],
   "source": [
    "# 呼出し結果の取得\n",
    "predict_list = np.array([item[0] for item in scoring['values']])\n",
    "# 予測結果の表示\n",
    "print(predict_list)\n",
    "# 正解データの表示\n",
    "print(score_labels)\n",
    "# 正解率の表示\n",
    "print(\"Evaluation report: \\n\\n%s\" % metrics.classification_report(score_labels, predict_list))"
   ]
  },
  {
   "cell_type": "code",
   "execution_count": null,
   "metadata": {},
   "outputs": [],
   "source": []
  }
 ],
 "metadata": {
  "kernelspec": {
   "display_name": "Python 3.5 (Experimental) with Spark 2.1",
   "language": "python",
   "name": "python3-spark21"
  },
  "language_info": {
   "codemirror_mode": {
    "name": "ipython",
    "version": 3
   },
   "file_extension": ".py",
   "mimetype": "text/x-python",
   "name": "python",
   "nbconvert_exporter": "python",
   "pygments_lexer": "ipython3",
   "version": "3.5.2"
  }
 },
 "nbformat": 4,
 "nbformat_minor": 1
}

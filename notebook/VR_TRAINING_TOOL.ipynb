{
 "cells": [
  {
   "cell_type": "markdown",
   "metadata": {},
   "source": [
    "# VR用カスタム学習ツール\n",
    "author: M. AKaishi"
   ]
  },
  {
   "cell_type": "markdown",
   "metadata": {},
   "source": [
    "### 初期設定"
   ]
  },
  {
   "cell_type": "code",
   "execution_count": null,
   "metadata": {},
   "outputs": [],
   "source": [
    "# APIキーの設定\n",
    "# この部分はインスタンス毎に書き換えて下さい\n",
    "api_key = 'xxxx'\n",
    "\n",
    "# テスト用tarファイルの指定\n",
    "tar_name = 'cifar-50000.gz'\n",
    "\n",
    "# 解析元データのトップディレクトリ名\n",
    "base_dir = 'Images'\n",
    "\n",
    "# 学習用データ一時保存先\n",
    "train_dir = 'Train'\n",
    "\n",
    "# API呼出しZIPファイルの保存先\n",
    "zip_dir = 'ZIP'\n",
    "\n",
    "# テスト用データ一時保存先\n",
    "test_dir = 'Test'\n",
    "\n",
    "# 分類器の名称\n",
    "classifier_name = 'cifar10'\n",
    "\n",
    "# 学習データ数\n",
    "train_num = 10\n",
    "\n",
    "# 検証データ数\n",
    "test_num = 10"
   ]
  },
  {
   "cell_type": "code",
   "execution_count": null,
   "metadata": {},
   "outputs": [],
   "source": [
    "# Watsonライブラリの導入\n",
    "!pip install \"watson-developer-cloud==1.2.1\""
   ]
  },
  {
   "cell_type": "markdown",
   "metadata": {},
   "source": [
    "### Object Storageから事前準備したイメージのダウンロード\n",
    "元データは公開されている機械学習用イメージデータ CIFAR-10   \n",
    "(飛行機、車、犬、ネコなど)"
   ]
  },
  {
   "cell_type": "code",
   "execution_count": null,
   "metadata": {},
   "outputs": [],
   "source": [
    "!wget https://github.com/makaishi2/watson-ml-scikit-learn/raw/master/zip/cifar10.gz"
   ]
  },
  {
   "cell_type": "code",
   "execution_count": null,
   "metadata": {},
   "outputs": [],
   "source": [
    "tar_name = 'cifar10.gz'\n",
    "# gzファイルの解凍\n",
    "import tarfile\n",
    "tf = tarfile.open(tar_name, 'r')\n",
    "tf.extractall('.')"
   ]
  },
  {
   "cell_type": "code",
   "execution_count": null,
   "metadata": {},
   "outputs": [],
   "source": [
    "!ls -l"
   ]
  },
  {
   "cell_type": "code",
   "execution_count": null,
   "metadata": {},
   "outputs": [],
   "source": [
    "!ls -al Images"
   ]
  },
  {
   "cell_type": "markdown",
   "metadata": {},
   "source": [
    "### イメージの表示"
   ]
  },
  {
   "cell_type": "code",
   "execution_count": null,
   "metadata": {},
   "outputs": [],
   "source": [
    "# イメージ表示関数(拡大機能付き)\n",
    "from PIL import Image\n",
    "from IPython.display import display_png\n",
    "\n",
    "def display_img(imgfile):\n",
    "    img = Image.open(imgfile)\n",
    "    img_resize = img.resize((80, 80),Image.LANCZOS)\n",
    "    display_png(img_resize)"
   ]
  },
  {
   "cell_type": "code",
   "execution_count": null,
   "metadata": {},
   "outputs": [],
   "source": [
    "# ファイルパスからクラス名を取得する関数\n",
    "import re\n",
    "\n",
    "def extract_class(filepath):\n",
    "    # ファイル名 -> サブディレクトリ名 = クラス名\n",
    "    pat = '%s/(\\S+)/' % (filepath)\n",
    "    m = re.search(r'/(\\S+)/', filepath)\n",
    "    label = m.group(1)\n",
    "    return label"
   ]
  },
  {
   "cell_type": "code",
   "execution_count": null,
   "metadata": {},
   "outputs": [],
   "source": [
    "# 入力イメージデータのサンプル表示\n",
    "import glob\n",
    "import os\n",
    "import numpy as np\n",
    "\n",
    "#表示するサンプル数\n",
    "sample_num = 10\n",
    "\n",
    "file_path = '%s/**' % (base_dir)\n",
    "files = [file for file in sorted(glob.glob(file_path, recursive=True)) if os.path.isfile(file)]\n",
    "indexes = np.random.randint(0, len(files), sample_num).tolist()\n",
    "sample_files = [files[index] for index in indexes]\n",
    "for file in sample_files:\n",
    "    print(extract_class(file), file)\n",
    "    display_img(file)"
   ]
  },
  {
   "cell_type": "markdown",
   "metadata": {},
   "source": [
    "### VR学習用データ作成"
   ]
  },
  {
   "cell_type": "code",
   "execution_count": null,
   "metadata": {},
   "outputs": [],
   "source": [
    "# サブディレクトリ一覧(=分類クラス名一覧)の作成\n",
    "import os\n",
    "labels = sorted(os.listdir(base_dir))\n",
    "labels = [item for item in labels if not '.' in item]\n",
    "print(labels)"
   ]
  },
  {
   "cell_type": "code",
   "execution_count": null,
   "metadata": {},
   "outputs": [],
   "source": [
    "# 学習用パラメータ定義\n",
    "\n",
    "# クラス数(元データのディレクトリ数で決定)\n",
    "n_classes = len(labels)\n",
    "\n",
    "# 学習データ用配列 (クラス毎に個別設定も可能)\n",
    "trains = [train_num] * n_classes\n",
    "\n",
    "# 検証データ用配列 (クラス毎に個別設定も可能)\n",
    "tests  = [test_num] * n_classes\n",
    "\n",
    "# パラメータの確認\n",
    "print(trains)\n",
    "print(tests)"
   ]
  },
  {
   "cell_type": "code",
   "execution_count": null,
   "metadata": {},
   "outputs": [],
   "source": [
    "# 作業用ディレクトリの準備\n",
    "import shutil\n",
    "import os\n",
    "\n",
    "# 古いものがあればまとめて削除\n",
    "if os.path.exists(train_dir):\n",
    "    shutil.rmtree(train_dir)\n",
    "if os.path.exists(test_dir):\n",
    "    shutil.rmtree(test_dir)\n",
    "if os.path.exists(zip_dir):\n",
    "    shutil.rmtree(zip_dir)\n",
    "\n",
    "# トップディレクトリの作成\n",
    "os.mkdir(train_dir)\n",
    "os.mkdir(test_dir)\n",
    "os.mkdir(zip_dir)\n",
    "\n",
    "# クラス毎のサブディレクトリの作成\n",
    "for label in labels:\n",
    "    train_sub = '%s/%s' % (train_dir, label)\n",
    "    test_sub = '%s/%s' % (test_dir, label)\n",
    "    os.mkdir(train_sub)\n",
    "    os.mkdir(test_sub)"
   ]
  },
  {
   "cell_type": "code",
   "execution_count": null,
   "metadata": {},
   "outputs": [],
   "source": [
    "# 検証用、テスト用データのコピー\n",
    "import shutil\n",
    "import os\n",
    "import glob\n",
    "\n",
    "for index, label in enumerate(labels):\n",
    "    # 学習データの個数\n",
    "    train = trains[index]\n",
    "    # 検証データの個数\n",
    "    test  = tests[index]\n",
    "    \n",
    "    subdir = '%s/%s/*' % (base_dir, label)\n",
    "    subtrain = '%s/%s/' % (train_dir, label)\n",
    "    subtest = '%s/%s/' % (test_dir, label)\n",
    "    file_list = sorted(glob.glob(subdir))\n",
    "\n",
    "    # 学習用データの一覧(先頭のtrain個)\n",
    "    file_list_train = file_list[:train]\n",
    "    for file in file_list_train:\n",
    "        shutil.copy2(file, subtrain)\n",
    "    \n",
    "    # 検証用データの一覧(後ろのtest個)\n",
    "    file_list_test  = file_list[-test:]\n",
    "    for file in file_list_test:\n",
    "        shutil.copy2(file, subtest)\n"
   ]
  },
  {
   "cell_type": "code",
   "execution_count": null,
   "metadata": {},
   "outputs": [],
   "source": [
    "!ls -lR Train/cat\n",
    "!ls -lR Test/cat"
   ]
  },
  {
   "cell_type": "code",
   "execution_count": null,
   "metadata": {},
   "outputs": [],
   "source": [
    "# 学習用ZIPファイルの作成\n",
    "\n",
    "import glob\n",
    "import zipfile\n",
    "import os\n",
    "for label in labels:\n",
    "    zipfilename = '%s/%s-train.zip' % (zip_dir, label)\n",
    "    print(\"zipfile %s is created\" % zipfilename)\n",
    "    subdir = '%s/%s/*' % (train_dir, label)\n",
    "    file_list = sorted(glob.glob(subdir))\n",
    "\n",
    "    with zipfile.ZipFile(zipfilename, 'w') as zip:\n",
    "        for file in file_list:\n",
    "            basename = os.path.basename(file)\n",
    "            zip.write(file, arcname=basename)\n"
   ]
  },
  {
   "cell_type": "code",
   "execution_count": null,
   "metadata": {},
   "outputs": [],
   "source": [
    "# 結果の確認\n",
    "!ls -lt\n",
    "!ls -lt ZIP"
   ]
  },
  {
   "cell_type": "markdown",
   "metadata": {},
   "source": [
    "### VR API呼出しによる機械学習"
   ]
  },
  {
   "cell_type": "code",
   "execution_count": null,
   "metadata": {},
   "outputs": [],
   "source": [
    "import json\n",
    "from watson_developer_cloud import VisualRecognitionV3"
   ]
  },
  {
   "cell_type": "code",
   "execution_count": null,
   "metadata": {},
   "outputs": [],
   "source": [
    "# APIインスタンス初期化\n",
    "visual_recognition = VisualRecognitionV3('2016-05-20', api_key = api_key)"
   ]
  },
  {
   "cell_type": "markdown",
   "metadata": {},
   "source": [
    "### 学習用ZIPファイルのオープン\n",
    "(以下のようなコマンドを実行する)\n",
    "\n",
    "```\n",
    "airplane = open('ZIP/airplane-train.zip', 'rb')\n",
    "automobile = open('ZIP/automobile-train.zip', 'rb')\n",
    "bird = open('ZIP/bird-train.zip', 'rb')\n",
    "cat = open('ZIP/cat-train.zip', 'rb')\n",
    "deer = open('ZIP/deer-train.zip', 'rb')\n",
    "dog = open('ZIP/dog-train.zip', 'rb')\n",
    "frog = open('ZIP/frog-train.zip', 'rb')\n",
    "horse = open('ZIP/horse-train.zip', 'rb')\n",
    "ship = open('ZIP/ship-train.zip', 'rb')\n",
    "truck = open('ZIP/truck-train.zip', 'rb')\n",
    "```"
   ]
  },
  {
   "cell_type": "code",
   "execution_count": null,
   "metadata": {},
   "outputs": [],
   "source": [
    "for label in labels:\n",
    "    cmd = \"%s = open('%s/%s-train.zip', 'rb')\" % (label, zip_dir, label)\n",
    "    print(cmd)\n",
    "    exec(cmd)"
   ]
  },
  {
   "cell_type": "markdown",
   "metadata": {},
   "source": [
    "### 学習用API呼出し\n",
    "(以下のような関数呼び出しを行う)\n",
    "\n",
    "```\n",
    "model = visual_recognition.create_classifier(\n",
    "    'cifar10',\n",
    "    airplane_positive_examples = airplane,\n",
    "    automobile_positive_examples = automobile,\n",
    "    bird_positive_examples = bird,\n",
    "    cat_positive_examples = cat,\n",
    "    deer_positive_examples = deer,\n",
    "    dog_positive_examples = dog,\n",
    "    frog_positive_examples = frog,\n",
    "    horse_positive_examples = horse,\n",
    "    ship_positive_examples = ship,\n",
    "    truck_positive_examples = truck)\n",
    "```"
   ]
  },
  {
   "cell_type": "code",
   "execution_count": null,
   "metadata": {},
   "outputs": [],
   "source": [
    "cmd = 'model = visual_recognition.create_classifier(\\n'\n",
    "cmd = cmd + \"    '%s',\\n\" % (classifier_name)\n",
    "for label in labels:\n",
    "    cmd = cmd + '    %s_positive_examples = %s,\\n' % (label, label)\n",
    "cmd = cmd[:-2] + ')\\n'\n",
    "print(cmd)\n",
    "exec(cmd)"
   ]
  },
  {
   "cell_type": "code",
   "execution_count": null,
   "metadata": {},
   "outputs": [],
   "source": [
    "# 分類器のリスト表示\n",
    "classifiers = visual_recognition.list_classifiers()\n",
    "print(classifiers)"
   ]
  },
  {
   "cell_type": "code",
   "execution_count": null,
   "metadata": {},
   "outputs": [],
   "source": [
    "# 分類器IDの設定\n",
    "classifier_id = model['classifier_id']"
   ]
  },
  {
   "cell_type": "code",
   "execution_count": null,
   "metadata": {},
   "outputs": [],
   "source": [
    "# トレーニングが完了するまでループ\n",
    "from datetime import datetime\n",
    "import pytz\n",
    "import time\n",
    "timezone_jst = pytz.timezone('Asia/Tokyo')\n",
    "\n",
    "classifier = visual_recognition.get_classifier(classifier_id=classifier_id)\n",
    "status = classifier['status']\n",
    "print(timezone_jst.localize(datetime.now()), status)\n",
    "\n",
    "while True:\n",
    "    if status in ['ready', 'fail']:\n",
    "        break\n",
    "    time.sleep(60)\n",
    "    classifier = visual_recognition.get_classifier(classifier_id=classifier_id)\n",
    "    status = classifier['status']\n",
    "    print(timezone_jst.localize(datetime.now()), status)\n"
   ]
  },
  {
   "cell_type": "code",
   "execution_count": null,
   "metadata": {},
   "outputs": [],
   "source": [
    "print(classifiers)"
   ]
  },
  {
   "cell_type": "code",
   "execution_count": null,
   "metadata": {},
   "outputs": [],
   "source": [
    "# 古いclassifier_idの一覧作成\n",
    "classifier_list = classifiers['classifiers']\n",
    "other_classifier_ids = [item['classifier_id'] for item in classifier_list if item['classifier_id'] != classifier_id]\n",
    "print(other_classifier_ids)"
   ]
  },
  {
   "cell_type": "code",
   "execution_count": null,
   "metadata": {},
   "outputs": [],
   "source": [
    "# 古い分類器の削除\n",
    "# (必要な場合このセルを実行)\n",
    "for id in other_classifier_ids:\n",
    "    response = visual_recognition.delete_classifier(classifier_id=id)"
   ]
  },
  {
   "cell_type": "code",
   "execution_count": null,
   "metadata": {},
   "outputs": [],
   "source": [
    "# 分類器のリスト表示\n",
    "classifiers = visual_recognition.list_classifiers()\n",
    "print(classifiers)"
   ]
  },
  {
   "cell_type": "markdown",
   "metadata": {},
   "source": [
    "### VR Classifier呼出し"
   ]
  },
  {
   "cell_type": "code",
   "execution_count": null,
   "metadata": {},
   "outputs": [],
   "source": [
    "# VRの戻りデータ解析用関数\n",
    "def analyze_result(classes):\n",
    "    image = classes['images'][0]\n",
    "    # イメージファイル名\n",
    "    filename = image['image']\n",
    "\n",
    "    # イメージファイル名から正解クラス名を抽出\n",
    "    answer = extract_class(filename)\n",
    "\n",
    "    # 分類結果の取得\n",
    "    vr_classes = image['classifiers'][0]['classes']\n",
    "\n",
    "    # 辞書に結果をまとめる\n",
    "    scores = {}\n",
    "    for item in vr_classes:\n",
    "        scores[item['class']] = item['score']\n",
    "\n",
    "    # scoreがランダムな状態で結果が帰ってくるのでソートをする必要がある\n",
    "    scores2 = sorted(scores.items(), key=lambda x: x[1])[::-1]\n",
    "\n",
    "    # 一番スコアの高いクラス名とその時のスコア\n",
    "    pred, score = scores2[0][0], scores2[0][1]\n",
    "    return filename, answer, pred, score"
   ]
  },
  {
   "cell_type": "code",
   "execution_count": null,
   "metadata": {
    "scrolled": false
   },
   "outputs": [],
   "source": [
    "# VRによる分類結果を取得\n",
    "\n",
    "import glob\n",
    "results = []\n",
    "for label in labels:\n",
    "    # テストデータのあるディレクトリ\n",
    "    subdir = '%s/%s/*' % (test_dir, label)\n",
    "    # サブディレクトリ配下のファイル一覧の作成\n",
    "    file_list = sorted(glob.glob(subdir))\n",
    "    # 訓練データの1つ先から検証データ数だけファイル名を取得\n",
    "    for file in file_list:\n",
    "        with open(file, 'rb') as images_file:\n",
    "            # 分類器の呼出し\n",
    "            classes = visual_recognition.classify( images_file,\n",
    "                parameters=json.dumps({'classifier_ids': [classifier_id], 'threshold': 0.0}))\n",
    "            # 分類結果の解析\n",
    "            result = analyze_result(classes)\n",
    "            print(result)\n",
    "            results.append(result)\n",
    "            "
   ]
  },
  {
   "cell_type": "markdown",
   "metadata": {},
   "source": [
    "### VRによる分類結果の分析"
   ]
  },
  {
   "cell_type": "code",
   "execution_count": null,
   "metadata": {},
   "outputs": [],
   "source": [
    "# テスト対象ファイルのリスト\n",
    "files = [item[0] for item in results]\n",
    "# 正解データのリスト\n",
    "answers = [item[1] for item in results]\n",
    "# 予測データのリスト\n",
    "preds   = [item[2] for item in results]\n",
    "# scoreのリスト\n",
    "scores   = [item[3] for item in results]"
   ]
  },
  {
   "cell_type": "code",
   "execution_count": null,
   "metadata": {
    "scrolled": false
   },
   "outputs": [],
   "source": [
    "# scikit learnのライブラリを使って認識率の計算\n",
    "from sklearn.metrics import classification_report\n",
    "print(classification_report(answers, preds))"
   ]
  },
  {
   "cell_type": "code",
   "execution_count": null,
   "metadata": {},
   "outputs": [],
   "source": [
    "# エラーリストの作成\n",
    "error_list = [(files[i], answers[i], preds[i], scores[i]) \n",
    "    for i in range(len(files)) if answers[i] != preds[i]]   "
   ]
  },
  {
   "cell_type": "code",
   "execution_count": null,
   "metadata": {
    "scrolled": false
   },
   "outputs": [],
   "source": [
    "# 分類エラーになったイメージの表示\n",
    "for item in error_list:\n",
    "    print(item[0], item[1], item[2], item[3])\n",
    "    display_img(item[0])"
   ]
  },
  {
   "cell_type": "markdown",
   "metadata": {},
   "source": [
    "#### (参考)分析結果をexportしたい場合"
   ]
  },
  {
   "cell_type": "code",
   "execution_count": null,
   "metadata": {},
   "outputs": [],
   "source": [
    "# 計算結果をDataFrameに変換\n",
    "import pandas as pd\n",
    "data = pd.DataFrame(results)\n",
    "data.head()"
   ]
  },
  {
   "cell_type": "code",
   "execution_count": null,
   "metadata": {},
   "outputs": [],
   "source": [
    "# DataFrameをCSVエクスポート\n",
    "data.to_csv('cifar10-test-200.csv')\n"
   ]
  },
  {
   "cell_type": "code",
   "execution_count": null,
   "metadata": {},
   "outputs": [],
   "source": [
    "# csvファイルをCOS(Cloud Object Storage)にexportする方法は別資料を参照して下さい"
   ]
  }
 ],
 "metadata": {
  "kernelspec": {
   "display_name": "Python 3.5",
   "language": "python",
   "name": "python3"
  },
  "language_info": {
   "codemirror_mode": {
    "name": "ipython",
    "version": 3
   },
   "file_extension": ".py",
   "mimetype": "text/x-python",
   "name": "python",
   "nbconvert_exporter": "python",
   "pygments_lexer": "ipython3",
   "version": "3.5.4"
  }
 },
 "nbformat": 4,
 "nbformat_minor": 1
}

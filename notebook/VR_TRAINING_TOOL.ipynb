{
 "cells": [
  {
   "cell_type": "markdown",
   "metadata": {},
   "source": [
    "# VR用カスタム学習ツール\n",
    "author: M. AKaishi"
   ]
  },
  {
   "cell_type": "markdown",
   "metadata": {},
   "source": [
    "### 初期設定"
   ]
  },
  {
   "cell_type": "code",
   "execution_count": 1,
   "metadata": {},
   "outputs": [],
   "source": [
    "# APIキーの設定\n",
    "# この部分はインスタンス毎に書き換えて下さい\n",
    "api_key = 'xxxx'\n",
    "\n",
    "# テスト用tarファイルの指定\n",
    "tar_name = 'cifar-50000.gz'\n",
    "\n",
    "# 解析元データのトップディレクトリ名\n",
    "base_dir = 'Images'\n",
    "\n",
    "# 学習用データ一時保存先\n",
    "train_dir = 'Train'\n",
    "\n",
    "# API呼出しZIPファイルの保存先\n",
    "zip_dir = 'ZIP'\n",
    "\n",
    "# テスト用データ一時保存先\n",
    "test_dir = 'Test'\n",
    "\n",
    "# 分類器の名称\n",
    "classifier_name = 'cifar10'\n",
    "\n",
    "# 学習データ数\n",
    "train_num = 10\n",
    "\n",
    "# 検証データ数\n",
    "test_num = 10"
   ]
  },
  {
   "cell_type": "code",
   "execution_count": null,
   "metadata": {},
   "outputs": [],
   "source": [
    "# Watsonライブラリの導入\n",
    "!pip install \"watson-developer-cloud==1.2.1\""
   ]
  },
  {
   "cell_type": "markdown",
   "metadata": {},
   "source": [
    "### Githubから事前準備したイメージのダウンロード\n",
    "元データは公開されている機械学習用イメージデータ CIFAR-10   \n",
    "(飛行機、車、犬、ネコなど)"
   ]
  },
  {
   "cell_type": "code",
   "execution_count": 2,
   "metadata": {},
   "outputs": [
    {
     "name": "stdout",
     "output_type": "stream",
     "text": [
      "--2018-05-15 08:31:07--  https://github.com/makaishi2/watson-ml-scikit-learn/raw/master/zip/cifar10.gz\n",
      "Resolving github.com (github.com)... 192.30.253.112, 192.30.253.113\n",
      "Connecting to github.com (github.com)|192.30.253.112|:443... connected.\n",
      "HTTP request sent, awaiting response... 302 Found\n",
      "Location: https://raw.githubusercontent.com/makaishi2/watson-ml-scikit-learn/master/zip/cifar10.gz [following]\n",
      "--2018-05-15 08:31:08--  https://raw.githubusercontent.com/makaishi2/watson-ml-scikit-learn/master/zip/cifar10.gz\n",
      "Resolving raw.githubusercontent.com (raw.githubusercontent.com)... 151.101.48.133\n",
      "Connecting to raw.githubusercontent.com (raw.githubusercontent.com)|151.101.48.133|:443... connected.\n",
      "HTTP request sent, awaiting response... 200 OK\n",
      "Length: 2278865 (2.2M) [application/octet-stream]\n",
      "Saving to: ‘cifar10.gz’\n",
      "\n",
      "100%[======================================>] 2,278,865   --.-K/s   in 0.05s   \n",
      "\n",
      "2018-05-15 08:31:13 (40.1 MB/s) - ‘cifar10.gz’ saved [2278865/2278865]\n",
      "\n"
     ]
    }
   ],
   "source": [
    "!wget https://github.com/makaishi2/watson-ml-scikit-learn/raw/master/zip/cifar10.gz"
   ]
  },
  {
   "cell_type": "code",
   "execution_count": 3,
   "metadata": {},
   "outputs": [],
   "source": [
    "tar_name = 'cifar10.gz'\n",
    "# gzファイルの解凍\n",
    "import tarfile\n",
    "tf = tarfile.open(tar_name, 'r')\n",
    "tf.extractall('.')"
   ]
  },
  {
   "cell_type": "code",
   "execution_count": 4,
   "metadata": {},
   "outputs": [
    {
     "name": "stdout",
     "output_type": "stream",
     "text": [
      "total 2232\r\n",
      "-rw-r-----  1 dsxuser dsxuser 2278865 May 15 08:31 cifar10.gz\r\n",
      "drwxr-x--- 12 dsxuser dsxuser    4096 Apr 11 01:37 Images\r\n"
     ]
    }
   ],
   "source": [
    "!ls -l"
   ]
  },
  {
   "cell_type": "code",
   "execution_count": 5,
   "metadata": {},
   "outputs": [
    {
     "name": "stdout",
     "output_type": "stream",
     "text": [
      "total 120\r\n",
      "drwxr-x--- 2 dsxuser dsxuser 12288 Apr  3 02:59 airplane\r\n",
      "drwxr-x--- 2 dsxuser dsxuser 12288 Apr  3 02:59 automobile\r\n",
      "drwxr-x--- 2 dsxuser dsxuser 12288 Apr  3 02:59 bird\r\n",
      "drwxr-x--- 2 dsxuser dsxuser 12288 Apr  3 02:59 cat\r\n",
      "drwxr-x--- 2 dsxuser dsxuser 12288 Apr  3 02:59 deer\r\n",
      "drwxr-x--- 2 dsxuser dsxuser 12288 Apr  3 02:59 dog\r\n",
      "drwxr-x--- 2 dsxuser dsxuser 12288 Apr  3 02:59 frog\r\n",
      "drwxr-x--- 2 dsxuser dsxuser 12288 Apr  3 02:59 horse\r\n",
      "drwxr-x--- 2 dsxuser dsxuser 12288 Apr  3 02:59 ship\r\n",
      "drwxr-x--- 2 dsxuser dsxuser 12288 Apr  3 02:59 trunk\r\n"
     ]
    }
   ],
   "source": [
    "!ls -l Images"
   ]
  },
  {
   "cell_type": "markdown",
   "metadata": {},
   "source": [
    "### イメージの表示"
   ]
  },
  {
   "cell_type": "code",
   "execution_count": null,
   "metadata": {},
   "outputs": [],
   "source": [
    "# イメージ表示関数(拡大機能付き)\n",
    "from PIL import Image\n",
    "from IPython.display import display_png\n",
    "\n",
    "def display_img(imgfile):\n",
    "    img = Image.open(imgfile)\n",
    "    img_resize = img.resize((80, 80),Image.LANCZOS)\n",
    "    display_png(img_resize)"
   ]
  },
  {
   "cell_type": "code",
   "execution_count": 6,
   "metadata": {},
   "outputs": [],
   "source": [
    "# ファイルパスからクラス名を取得する関数\n",
    "import re\n",
    "\n",
    "def extract_class(filepath):\n",
    "    # ファイル名 -> サブディレクトリ名 = クラス名\n",
    "    pat = '%s/(\\S+)/' % (filepath)\n",
    "    m = re.search(r'/(\\S+)/', filepath)\n",
    "    label = m.group(1)\n",
    "    return label"
   ]
  },
  {
   "cell_type": "code",
   "execution_count": null,
   "metadata": {},
   "outputs": [],
   "source": [
    "# 入力イメージデータのサンプル表示\n",
    "import glob\n",
    "import os\n",
    "import numpy as np\n",
    "\n",
    "#表示するサンプル数\n",
    "sample_num = 10\n",
    "\n",
    "file_path = '%s/**' % (base_dir)\n",
    "files = [file for file in sorted(glob.glob(file_path, recursive=True)) if os.path.isfile(file)]\n",
    "indexes = np.random.randint(0, len(files), sample_num).tolist()\n",
    "sample_files = [files[index] for index in indexes]\n",
    "for file in sample_files:\n",
    "    print(extract_class(file), file)\n",
    "    display_img(file)"
   ]
  },
  {
   "cell_type": "markdown",
   "metadata": {},
   "source": [
    "### VR学習用データ作成"
   ]
  },
  {
   "cell_type": "code",
   "execution_count": 7,
   "metadata": {},
   "outputs": [
    {
     "name": "stdout",
     "output_type": "stream",
     "text": [
      "['airplane', 'automobile', 'bird', 'cat', 'deer', 'dog', 'frog', 'horse', 'ship', 'trunk']\n"
     ]
    }
   ],
   "source": [
    "# サブディレクトリ一覧(=分類クラス名一覧)の作成\n",
    "import os\n",
    "labels = sorted(os.listdir(base_dir))\n",
    "labels = [item for item in labels if not '.' in item]\n",
    "print(labels)"
   ]
  },
  {
   "cell_type": "code",
   "execution_count": 8,
   "metadata": {},
   "outputs": [
    {
     "name": "stdout",
     "output_type": "stream",
     "text": [
      "[10, 10, 10, 10, 10, 10, 10, 10, 10, 10]\n",
      "[10, 10, 10, 10, 10, 10, 10, 10, 10, 10]\n"
     ]
    }
   ],
   "source": [
    "# 学習用パラメータ定義\n",
    "\n",
    "# クラス数(元データのディレクトリ数で決定)\n",
    "n_classes = len(labels)\n",
    "\n",
    "# 学習データ用配列 (クラス毎に個別設定も可能)\n",
    "trains = [train_num] * n_classes\n",
    "\n",
    "# 検証データ用配列 (クラス毎に個別設定も可能)\n",
    "tests  = [test_num] * n_classes\n",
    "\n",
    "# パラメータの確認\n",
    "print(trains)\n",
    "print(tests)"
   ]
  },
  {
   "cell_type": "code",
   "execution_count": 9,
   "metadata": {},
   "outputs": [],
   "source": [
    "# 作業用ディレクトリの準備\n",
    "import shutil\n",
    "import os\n",
    "\n",
    "# 古いものがあればまとめて削除\n",
    "if os.path.exists(train_dir):\n",
    "    shutil.rmtree(train_dir)\n",
    "if os.path.exists(test_dir):\n",
    "    shutil.rmtree(test_dir)\n",
    "if os.path.exists(zip_dir):\n",
    "    shutil.rmtree(zip_dir)\n",
    "\n",
    "# トップディレクトリの作成\n",
    "os.mkdir(train_dir)\n",
    "os.mkdir(test_dir)\n",
    "os.mkdir(zip_dir)\n",
    "\n",
    "# クラス毎のサブディレクトリの作成\n",
    "for label in labels:\n",
    "    train_sub = '%s/%s' % (train_dir, label)\n",
    "    test_sub = '%s/%s' % (test_dir, label)\n",
    "    os.mkdir(train_sub)\n",
    "    os.mkdir(test_sub)"
   ]
  },
  {
   "cell_type": "code",
   "execution_count": 10,
   "metadata": {},
   "outputs": [],
   "source": [
    "# 検証用、テスト用データのコピー\n",
    "import shutil\n",
    "import os\n",
    "import glob\n",
    "\n",
    "for index, label in enumerate(labels):\n",
    "    # 学習データの個数\n",
    "    train = trains[index]\n",
    "    # 検証データの個数\n",
    "    test  = tests[index]\n",
    "    \n",
    "    subdir = '%s/%s/*' % (base_dir, label)\n",
    "    subtrain = '%s/%s/' % (train_dir, label)\n",
    "    subtest = '%s/%s/' % (test_dir, label)\n",
    "    file_list = sorted(glob.glob(subdir))\n",
    "\n",
    "    # 学習用データの一覧(先頭のtrain個)\n",
    "    file_list_train = file_list[:train]\n",
    "    for file in file_list_train:\n",
    "        shutil.copy2(file, subtrain)\n",
    "    \n",
    "    # 検証用データの一覧(後ろのtest個)\n",
    "    file_list_test  = file_list[-test:]\n",
    "    for file in file_list_test:\n",
    "        shutil.copy2(file, subtest)\n"
   ]
  },
  {
   "cell_type": "code",
   "execution_count": 11,
   "metadata": {},
   "outputs": [
    {
     "name": "stdout",
     "output_type": "stream",
     "text": [
      "Train/cat:\n",
      "total 40\n",
      "-rw-r----- 1 dsxuser dsxuser 2105 Apr  3 02:59 train-3-00009.png\n",
      "-rw-r----- 1 dsxuser dsxuser 2193 Apr  3 02:59 train-3-00017.png\n",
      "-rw-r----- 1 dsxuser dsxuser 2054 Apr  3 02:59 train-3-00021.png\n",
      "-rw-r----- 1 dsxuser dsxuser 2148 Apr  3 02:59 train-3-00026.png\n",
      "-rw-r----- 1 dsxuser dsxuser 2509 Apr  3 02:59 train-3-00033.png\n",
      "-rw-r----- 1 dsxuser dsxuser 2254 Apr  3 02:59 train-3-00036.png\n",
      "-rw-r----- 1 dsxuser dsxuser 2398 Apr  3 02:59 train-3-00038.png\n",
      "-rw-r----- 1 dsxuser dsxuser 2544 Apr  3 02:59 train-3-00039.png\n",
      "-rw-r----- 1 dsxuser dsxuser 2381 Apr  3 02:59 train-3-00059.png\n",
      "-rw-r----- 1 dsxuser dsxuser 2547 Apr  3 02:59 train-3-00074.png\n",
      "Test/cat:\n",
      "total 40\n",
      "-rw-r----- 1 dsxuser dsxuser 2053 Apr  3 02:59 train-3-00882.png\n",
      "-rw-r----- 1 dsxuser dsxuser 1936 Apr  3 02:59 train-3-00895.png\n",
      "-rw-r----- 1 dsxuser dsxuser 2116 Apr  3 02:59 train-3-00922.png\n",
      "-rw-r----- 1 dsxuser dsxuser 2374 Apr  3 02:59 train-3-00941.png\n",
      "-rw-r----- 1 dsxuser dsxuser 2403 Apr  3 02:59 train-3-00949.png\n",
      "-rw-r----- 1 dsxuser dsxuser 2340 Apr  3 02:59 train-3-00955.png\n",
      "-rw-r----- 1 dsxuser dsxuser 1916 Apr  3 02:59 train-3-00969.png\n",
      "-rw-r----- 1 dsxuser dsxuser 2316 Apr  3 02:59 train-3-00992.png\n",
      "-rw-r----- 1 dsxuser dsxuser 2362 Apr  3 02:59 train-3-00995.png\n",
      "-rw-r----- 1 dsxuser dsxuser 1957 Apr  3 02:59 train-3-00998.png\n"
     ]
    }
   ],
   "source": [
    "!ls -lR Train/cat\n",
    "!ls -lR Test/cat"
   ]
  },
  {
   "cell_type": "code",
   "execution_count": null,
   "metadata": {},
   "outputs": [],
   "source": [
    "# 学習用ZIPファイルの作成\n",
    "\n",
    "import glob\n",
    "import zipfile\n",
    "import os\n",
    "for label in labels:\n",
    "    zipfilename = '%s/%s-train.zip' % (zip_dir, label)\n",
    "    print(\"zipfile %s is created\" % zipfilename)\n",
    "    subdir = '%s/%s/*' % (train_dir, label)\n",
    "    file_list = sorted(glob.glob(subdir))\n",
    "\n",
    "    with zipfile.ZipFile(zipfilename, 'w') as zip:\n",
    "        for file in file_list:\n",
    "            basename = os.path.basename(file)\n",
    "            zip.write(file, arcname=basename)\n"
   ]
  },
  {
   "cell_type": "code",
   "execution_count": null,
   "metadata": {},
   "outputs": [],
   "source": [
    "# 結果の確認\n",
    "!ls -lt\n",
    "!ls -lt ZIP"
   ]
  },
  {
   "cell_type": "markdown",
   "metadata": {},
   "source": [
    "### VR API呼出しによる機械学習"
   ]
  },
  {
   "cell_type": "code",
   "execution_count": 12,
   "metadata": {},
   "outputs": [],
   "source": [
    "import json\n",
    "from watson_developer_cloud import VisualRecognitionV3"
   ]
  },
  {
   "cell_type": "code",
   "execution_count": 13,
   "metadata": {},
   "outputs": [],
   "source": [
    "# APIインスタンス初期化\n",
    "visual_recognition = VisualRecognitionV3('2016-05-20', api_key = api_key)"
   ]
  },
  {
   "cell_type": "markdown",
   "metadata": {},
   "source": [
    "### 学習用ZIPファイルのオープン\n",
    "(以下のようなコマンドを実行する)\n",
    "\n",
    "```\n",
    "airplane = open('ZIP/airplane-train.zip', 'rb')\n",
    "automobile = open('ZIP/automobile-train.zip', 'rb')\n",
    "bird = open('ZIP/bird-train.zip', 'rb')\n",
    "cat = open('ZIP/cat-train.zip', 'rb')\n",
    "deer = open('ZIP/deer-train.zip', 'rb')\n",
    "dog = open('ZIP/dog-train.zip', 'rb')\n",
    "frog = open('ZIP/frog-train.zip', 'rb')\n",
    "horse = open('ZIP/horse-train.zip', 'rb')\n",
    "ship = open('ZIP/ship-train.zip', 'rb')\n",
    "truck = open('ZIP/truck-train.zip', 'rb')\n",
    "```"
   ]
  },
  {
   "cell_type": "code",
   "execution_count": null,
   "metadata": {},
   "outputs": [],
   "source": [
    "for label in labels:\n",
    "    cmd = \"%s = open('%s/%s-train.zip', 'rb')\" % (label, zip_dir, label)\n",
    "    print(cmd)\n",
    "    exec(cmd)"
   ]
  },
  {
   "cell_type": "markdown",
   "metadata": {},
   "source": [
    "### 学習用API呼出し\n",
    "(以下のような関数呼び出しを行う)\n",
    "\n",
    "```\n",
    "model = visual_recognition.create_classifier(\n",
    "    'cifar10',\n",
    "    airplane_positive_examples = airplane,\n",
    "    automobile_positive_examples = automobile,\n",
    "    bird_positive_examples = bird,\n",
    "    cat_positive_examples = cat,\n",
    "    deer_positive_examples = deer,\n",
    "    dog_positive_examples = dog,\n",
    "    frog_positive_examples = frog,\n",
    "    horse_positive_examples = horse,\n",
    "    ship_positive_examples = ship,\n",
    "    truck_positive_examples = truck)\n",
    "```"
   ]
  },
  {
   "cell_type": "code",
   "execution_count": null,
   "metadata": {},
   "outputs": [],
   "source": [
    "cmd = 'model = visual_recognition.create_classifier(\\n'\n",
    "cmd = cmd + \"    '%s',\\n\" % (classifier_name)\n",
    "for label in labels:\n",
    "    cmd = cmd + '    %s_positive_examples = %s,\\n' % (label, label)\n",
    "cmd = cmd[:-2] + ')\\n'\n",
    "print(cmd)\n",
    "exec(cmd)"
   ]
  },
  {
   "cell_type": "code",
   "execution_count": null,
   "metadata": {},
   "outputs": [],
   "source": [
    "# 分類器のリスト表示\n",
    "classifiers = visual_recognition.list_classifiers()\n",
    "print(classifiers)"
   ]
  },
  {
   "cell_type": "code",
   "execution_count": null,
   "metadata": {},
   "outputs": [],
   "source": [
    "# 分類器IDの設定\n",
    "classifier_id = model['classifier_id']"
   ]
  },
  {
   "cell_type": "code",
   "execution_count": null,
   "metadata": {},
   "outputs": [],
   "source": [
    "# トレーニングが完了するまでループ\n",
    "from datetime import datetime\n",
    "import pytz\n",
    "import time\n",
    "timezone_jst = pytz.timezone('Asia/Tokyo')\n",
    "\n",
    "classifier = visual_recognition.get_classifier(classifier_id=classifier_id)\n",
    "status = classifier['status']\n",
    "print(timezone_jst.localize(datetime.now()), status)\n",
    "\n",
    "while True:\n",
    "    if status in ['ready', 'fail']:\n",
    "        break\n",
    "    time.sleep(60)\n",
    "    classifier = visual_recognition.get_classifier(classifier_id=classifier_id)\n",
    "    status = classifier['status']\n",
    "    print(timezone_jst.localize(datetime.now()), status)\n"
   ]
  },
  {
   "cell_type": "code",
   "execution_count": null,
   "metadata": {},
   "outputs": [],
   "source": [
    "print(classifiers)"
   ]
  },
  {
   "cell_type": "code",
   "execution_count": null,
   "metadata": {},
   "outputs": [],
   "source": [
    "# 古いclassifier_idの一覧作成\n",
    "classifier_list = classifiers['classifiers']\n",
    "other_classifier_ids = [item['classifier_id'] for item in classifier_list if item['classifier_id'] != classifier_id]\n",
    "print(other_classifier_ids)"
   ]
  },
  {
   "cell_type": "code",
   "execution_count": null,
   "metadata": {},
   "outputs": [],
   "source": [
    "# 古い分類器の削除\n",
    "# (必要な場合このセルを実行)\n",
    "for id in other_classifier_ids:\n",
    "    response = visual_recognition.delete_classifier(classifier_id=id)"
   ]
  },
  {
   "cell_type": "code",
   "execution_count": 14,
   "metadata": {},
   "outputs": [
    {
     "name": "stdout",
     "output_type": "stream",
     "text": [
      "{'classifiers': [{'status': 'ready', 'name': 'cifar10', 'classifier_id': 'cifar10_632421676'}]}\n"
     ]
    }
   ],
   "source": [
    "# 分類器のリスト表示\n",
    "classifiers = visual_recognition.list_classifiers()\n",
    "print(classifiers)"
   ]
  },
  {
   "cell_type": "markdown",
   "metadata": {},
   "source": [
    "### VR Classifier呼出し"
   ]
  },
  {
   "cell_type": "code",
   "execution_count": 16,
   "metadata": {},
   "outputs": [],
   "source": [
    "# VRの戻りデータ解析用関数\n",
    "def analyze_result(classes):\n",
    "    image = classes['images'][0]\n",
    "    # イメージファイル名\n",
    "    filename = image['image']\n",
    "\n",
    "    # イメージファイル名から正解クラス名を抽出\n",
    "    answer = extract_class(filename)\n",
    "\n",
    "    # 分類結果の取得\n",
    "    vr_classes = image['classifiers'][0]['classes']\n",
    "\n",
    "    # 辞書に結果をまとめる\n",
    "    scores = {}\n",
    "    for item in vr_classes:\n",
    "        scores[item['class']] = item['score']\n",
    "\n",
    "    # scoreがランダムな状態で結果が帰ってくるのでソートをする必要がある\n",
    "    scores2 = sorted(scores.items(), key=lambda x: x[1])[::-1]\n",
    "\n",
    "    # 一番スコアの高いクラス名とその時のスコア\n",
    "    pred, score = scores2[0][0], scores2[0][1]\n",
    "    return filename, answer, pred, score"
   ]
  },
  {
   "cell_type": "code",
   "execution_count": 17,
   "metadata": {
    "scrolled": false
   },
   "outputs": [
    {
     "name": "stdout",
     "output_type": "stream",
     "text": [
      "('Test/airplane/train-0-00905.png', 'airplane', 'airplane', 0.384)\n",
      "('Test/airplane/train-0-00906.png', 'airplane', 'ship', 0.573)\n",
      "('Test/airplane/train-0-00911.png', 'airplane', 'bird', 0.585)\n",
      "('Test/airplane/train-0-00927.png', 'airplane', 'frog', 0.726)\n",
      "('Test/airplane/train-0-00938.png', 'airplane', 'ship', 0.879)\n",
      "('Test/airplane/train-0-00940.png', 'airplane', 'automobile', 0.833)\n",
      "('Test/airplane/train-0-00965.png', 'airplane', 'ship', 0.823)\n",
      "('Test/airplane/train-0-00974.png', 'airplane', 'ship', 0.676)\n",
      "('Test/airplane/train-0-00983.png', 'airplane', 'ship', 0.855)\n",
      "('Test/airplane/train-0-00989.png', 'airplane', 'trunk', 0.674)\n",
      "('Test/automobile/train-1-00917.png', 'automobile', 'trunk', 0.741)\n",
      "('Test/automobile/train-1-00936.png', 'automobile', 'trunk', 0.656)\n",
      "('Test/automobile/train-1-00942.png', 'automobile', 'ship', 0.693)\n",
      "('Test/automobile/train-1-00947.png', 'automobile', 'automobile', 0.871)\n",
      "('Test/automobile/train-1-00962.png', 'automobile', 'trunk', 0.91)\n",
      "('Test/automobile/train-1-00977.png', 'automobile', 'trunk', 0.894)\n",
      "('Test/automobile/train-1-00978.png', 'automobile', 'automobile', 0.8)\n",
      "('Test/automobile/train-1-00980.png', 'automobile', 'automobile', 0.748)\n",
      "('Test/automobile/train-1-00991.png', 'automobile', 'automobile', 0.729)\n",
      "('Test/automobile/train-1-00997.png', 'automobile', 'automobile', 0.581)\n",
      "('Test/bird/train-2-00907.png', 'bird', 'frog', 0.89)\n",
      "('Test/bird/train-2-00910.png', 'bird', 'bird', 0.692)\n",
      "('Test/bird/train-2-00912.png', 'bird', 'frog', 0.74)\n",
      "('Test/bird/train-2-00924.png', 'bird', 'frog', 0.8)\n",
      "('Test/bird/train-2-00933.png', 'bird', 'airplane', 0.512)\n",
      "('Test/bird/train-2-00957.png', 'bird', 'deer', 0.671)\n",
      "('Test/bird/train-2-00963.png', 'bird', 'dog', 0.908)\n",
      "('Test/bird/train-2-00975.png', 'bird', 'bird', 0.725)\n",
      "('Test/bird/train-2-00986.png', 'bird', 'deer', 0.757)\n",
      "('Test/bird/train-2-00990.png', 'bird', 'frog', 0.715)\n",
      "('Test/cat/train-3-00882.png', 'cat', 'bird', 0.439)\n",
      "('Test/cat/train-3-00895.png', 'cat', 'cat', 0.737)\n",
      "('Test/cat/train-3-00922.png', 'cat', 'cat', 0.657)\n",
      "('Test/cat/train-3-00941.png', 'cat', 'dog', 0.622)\n",
      "('Test/cat/train-3-00949.png', 'cat', 'cat', 0.608)\n",
      "('Test/cat/train-3-00955.png', 'cat', 'cat', 0.774)\n",
      "('Test/cat/train-3-00969.png', 'cat', 'cat', 0.735)\n",
      "('Test/cat/train-3-00992.png', 'cat', 'frog', 0.76)\n",
      "('Test/cat/train-3-00995.png', 'cat', 'dog', 0.717)\n",
      "('Test/cat/train-3-00998.png', 'cat', 'cat', 0.768)\n",
      "('Test/deer/train-4-00934.png', 'deer', 'horse', 0.786)\n",
      "('Test/deer/train-4-00939.png', 'deer', 'frog', 0.682)\n",
      "('Test/deer/train-4-00945.png', 'deer', 'horse', 0.453)\n",
      "('Test/deer/train-4-00946.png', 'deer', 'horse', 0.784)\n",
      "('Test/deer/train-4-00951.png', 'deer', 'deer', 0.557)\n",
      "('Test/deer/train-4-00959.png', 'deer', 'deer', 0.74)\n",
      "('Test/deer/train-4-00966.png', 'deer', 'deer', 0.904)\n",
      "('Test/deer/train-4-00976.png', 'deer', 'bird', 0.511)\n",
      "('Test/deer/train-4-00979.png', 'deer', 'dog', 0.452)\n",
      "('Test/deer/train-4-00982.png', 'deer', 'deer', 0.608)\n",
      "('Test/dog/train-5-00919.png', 'dog', 'dog', 0.389)\n",
      "('Test/dog/train-5-00928.png', 'dog', 'bird', 0.469)\n",
      "('Test/dog/train-5-00932.png', 'dog', 'cat', 0.853)\n",
      "('Test/dog/train-5-00944.png', 'dog', 'horse', 0.917)\n",
      "('Test/dog/train-5-00981.png', 'dog', 'cat', 0.658)\n",
      "('Test/dog/train-5-00984.png', 'dog', 'dog', 0.831)\n",
      "('Test/dog/train-5-00988.png', 'dog', 'dog', 0.922)\n",
      "('Test/dog/train-5-00993.png', 'dog', 'cat', 0.811)\n",
      "('Test/dog/train-5-00996.png', 'dog', 'cat', 0.635)\n",
      "('Test/dog/train-5-00999.png', 'dog', 'cat', 0.834)\n",
      "('Test/frog/train-6-00920.png', 'frog', 'frog', 0.885)\n",
      "('Test/frog/train-6-00921.png', 'frog', 'bird', 0.617)\n",
      "('Test/frog/train-6-00923.png', 'frog', 'dog', 0.664)\n",
      "('Test/frog/train-6-00929.png', 'frog', 'cat', 0.67)\n",
      "('Test/frog/train-6-00931.png', 'frog', 'frog', 0.587)\n",
      "('Test/frog/train-6-00935.png', 'frog', 'frog', 0.894)\n",
      "('Test/frog/train-6-00937.png', 'frog', 'frog', 0.905)\n",
      "('Test/frog/train-6-00960.png', 'frog', 'frog', 0.873)\n",
      "('Test/frog/train-6-00961.png', 'frog', 'frog', 0.628)\n",
      "('Test/frog/train-6-00985.png', 'frog', 'frog', 0.893)\n",
      "('Test/horse/train-7-00916.png', 'horse', 'horse', 0.735)\n",
      "('Test/horse/train-7-00926.png', 'horse', 'horse', 0.689)\n",
      "('Test/horse/train-7-00948.png', 'horse', 'deer', 0.748)\n",
      "('Test/horse/train-7-00952.png', 'horse', 'deer', 0.832)\n",
      "('Test/horse/train-7-00954.png', 'horse', 'airplane', 0.508)\n",
      "('Test/horse/train-7-00956.png', 'horse', 'horse', 0.709)\n",
      "('Test/horse/train-7-00968.png', 'horse', 'dog', 0.579)\n",
      "('Test/horse/train-7-00972.png', 'horse', 'horse', 0.85)\n",
      "('Test/horse/train-7-00973.png', 'horse', 'deer', 0.603)\n",
      "('Test/horse/train-7-00994.png', 'horse', 'dog', 0.649)\n",
      "('Test/ship/train-8-00891.png', 'ship', 'ship', 0.885)\n",
      "('Test/ship/train-8-00892.png', 'ship', 'ship', 0.886)\n",
      "('Test/ship/train-8-00897.png', 'ship', 'trunk', 0.709)\n",
      "('Test/ship/train-8-00901.png', 'ship', 'trunk', 0.664)\n",
      "('Test/ship/train-8-00909.png', 'ship', 'ship', 0.915)\n",
      "('Test/ship/train-8-00943.png', 'ship', 'ship', 0.888)\n",
      "('Test/ship/train-8-00958.png', 'ship', 'frog', 0.602)\n",
      "('Test/ship/train-8-00967.png', 'ship', 'ship', 0.924)\n",
      "('Test/ship/train-8-00971.png', 'ship', 'ship', 0.808)\n",
      "('Test/ship/train-8-00987.png', 'ship', 'ship', 0.88)\n",
      "('Test/trunk/train-9-00883.png', 'trunk', 'trunk', 0.915)\n",
      "('Test/trunk/train-9-00884.png', 'trunk', 'trunk', 0.671)\n",
      "('Test/trunk/train-9-00886.png', 'trunk', 'trunk', 0.807)\n",
      "('Test/trunk/train-9-00890.png', 'trunk', 'trunk', 0.723)\n",
      "('Test/trunk/train-9-00900.png', 'trunk', 'trunk', 0.921)\n",
      "('Test/trunk/train-9-00915.png', 'trunk', 'trunk', 0.869)\n",
      "('Test/trunk/train-9-00950.png', 'trunk', 'trunk', 0.629)\n",
      "('Test/trunk/train-9-00953.png', 'trunk', 'automobile', 0.811)\n",
      "('Test/trunk/train-9-00964.png', 'trunk', 'trunk', 0.923)\n",
      "('Test/trunk/train-9-00970.png', 'trunk', 'trunk', 0.884)\n"
     ]
    }
   ],
   "source": [
    "# VRによる分類結果を取得\n",
    "\n",
    "import glob\n",
    "results = []\n",
    "for label in labels:\n",
    "    # テストデータのあるディレクトリ\n",
    "    subdir = '%s/%s/*' % (test_dir, label)\n",
    "    # サブディレクトリ配下のファイル一覧の作成\n",
    "    file_list = sorted(glob.glob(subdir))\n",
    "    # 訓練データの1つ先から検証データ数だけファイル名を取得\n",
    "    for file in file_list:\n",
    "        with open(file, 'rb') as images_file:\n",
    "            # 分類器の呼出し\n",
    "            classes = visual_recognition.classify( images_file,\n",
    "                parameters=json.dumps({'classifier_ids': [classifier_id], 'threshold': 0.0}))\n",
    "            # 分類結果の解析\n",
    "            result = analyze_result(classes)\n",
    "            print(result)\n",
    "            results.append(result)\n",
    "            "
   ]
  },
  {
   "cell_type": "markdown",
   "metadata": {},
   "source": [
    "### VRによる分類結果の分析"
   ]
  },
  {
   "cell_type": "code",
   "execution_count": 18,
   "metadata": {},
   "outputs": [],
   "source": [
    "# テスト対象ファイルのリスト\n",
    "files = [item[0] for item in results]\n",
    "# 正解データのリスト\n",
    "answers = [item[1] for item in results]\n",
    "# 予測データのリスト\n",
    "preds   = [item[2] for item in results]\n",
    "# scoreのリスト\n",
    "scores   = [item[3] for item in results]"
   ]
  },
  {
   "cell_type": "code",
   "execution_count": 19,
   "metadata": {
    "scrolled": false
   },
   "outputs": [
    {
     "name": "stdout",
     "output_type": "stream",
     "text": [
      "             precision    recall  f1-score   support\n",
      "\n",
      "   airplane       0.33      0.10      0.15        10\n",
      " automobile       0.71      0.50      0.59        10\n",
      "       bird       0.29      0.20      0.24        10\n",
      "        cat       0.50      0.60      0.55        10\n",
      "       deer       0.44      0.40      0.42        10\n",
      "        dog       0.30      0.30      0.30        10\n",
      "       frog       0.47      0.70      0.56        10\n",
      "      horse       0.50      0.40      0.44        10\n",
      "       ship       0.54      0.70      0.61        10\n",
      "      trunk       0.56      0.90      0.69        10\n",
      "\n",
      "avg / total       0.46      0.48      0.45       100\n",
      "\n"
     ]
    }
   ],
   "source": [
    "# scikit learnのライブラリを使って認識率の計算\n",
    "from sklearn.metrics import classification_report\n",
    "print(classification_report(answers, preds))"
   ]
  },
  {
   "cell_type": "code",
   "execution_count": 20,
   "metadata": {},
   "outputs": [],
   "source": [
    "# 混同行列\n",
    "from sklearn.metrics import confusion_matrix\n",
    "cmx = confusion_matrix(answers, preds, labels=labels)"
   ]
  },
  {
   "cell_type": "code",
   "execution_count": 22,
   "metadata": {},
   "outputs": [
    {
     "data": {
      "image/png": "[encoded data removed]",
      "text/plain": [
       "<matplotlib.figure.Figure at 0x2b53348e8e80>"
      ]
     },
     "metadata": {},
     "output_type": "display_data"
    }
   ],
   "source": [
    "# ヒートマップ表示\n",
    "import pandas as pd\n",
    "import seaborn as sn\n",
    "import matplotlib.pyplot as plt\n",
    "import matplotlib.cm as cm\n",
    "%matplotlib inline\n",
    "\n",
    "df_cmx = pd.DataFrame(cmx, index=labels, columns=labels)\n",
    "plt.figure(figsize = (10,7))\n",
    "sn.heatmap(df_cmx, cmap=cm.GnBu, annot=True)\n",
    "plt.show()"
   ]
  },
  {
   "cell_type": "code",
   "execution_count": null,
   "metadata": {},
   "outputs": [],
   "source": [
    "# エラーリストの作成\n",
    "error_list = [(files[i], answers[i], preds[i], scores[i]) \n",
    "    for i in range(len(files)) if answers[i] != preds[i]]   "
   ]
  },
  {
   "cell_type": "code",
   "execution_count": null,
   "metadata": {
    "scrolled": false
   },
   "outputs": [],
   "source": [
    "# 分類エラーになったイメージの表示\n",
    "for item in error_list:\n",
    "    print(item[0], item[1], item[2], item[3])\n",
    "    display_img(item[0])"
   ]
  },
  {
   "cell_type": "markdown",
   "metadata": {},
   "source": [
    "#### (参考)分析結果をexportしたい場合"
   ]
  },
  {
   "cell_type": "code",
   "execution_count": null,
   "metadata": {},
   "outputs": [],
   "source": [
    "# 計算結果をDataFrameに変換\n",
    "import pandas as pd\n",
    "data = pd.DataFrame(results)\n",
    "data.head()"
   ]
  },
  {
   "cell_type": "code",
   "execution_count": null,
   "metadata": {},
   "outputs": [],
   "source": [
    "# DataFrameをCSVエクスポート\n",
    "data.to_csv('cifar10-test-200.csv')\n"
   ]
  },
  {
   "cell_type": "code",
   "execution_count": null,
   "metadata": {},
   "outputs": [],
   "source": [
    "# csvファイルをCOS(Cloud Object Storage)にexportする方法は別資料を参照して下さい"
   ]
  }
 ],
 "metadata": {
  "kernelspec": {
   "display_name": "Python 3.5",
   "language": "python",
   "name": "python3"
  },
  "language_info": {
   "codemirror_mode": {
    "name": "ipython",
    "version": 3
   },
   "file_extension": ".py",
   "mimetype": "text/x-python",
   "name": "python",
   "nbconvert_exporter": "python",
   "pygments_lexer": "ipython3",
   "version": "3.5.4"
  }
 },
 "nbformat": 4,
 "nbformat_minor": 1
}
